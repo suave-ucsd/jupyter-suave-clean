{
 "cells": [
  {
   "cell_type": "code",
   "execution_count": 121,
   "metadata": {},
   "outputs": [],
   "source": [
    "import pandas as pd\n",
    "import numpy as np\n",
    "import datetime as dt\n",
    "import matplotlib.pyplot as plt\n",
    "import matplotlib.patches as mpatches\n",
    "import matplotlib.dates as mdates\n",
    "import urllib.request, json\n",
    "import helpers\n",
    "from datetime import datetime, date, time\n",
    "from ipywidgets import widgets  \n",
    "from IPython import get_ipython\n",
    "from IPython.display import display\n",
    "from matplotlib import pylab\n",
    "from pylab import *\n",
    "from IPython.display import clear_output\n",
    "\n",
    "\n",
    "\n",
    "#Set URL of notebook to http://localhost:8888/notebooks/github_repos/Mok1-Sea-Data/Ouida.ipynb?docID=65bbd72fc0b44da390f3a2007600d6be\n",
    "\n"
   ]
  },
  {
   "cell_type": "code",
   "execution_count": 122,
   "metadata": {},
   "outputs": [
    {
     "data": {
      "application/javascript": [
       "function getQueryStringValue (key){  \n",
       "    return unescape(window.location.search.replace(new RegExp(\"^(?:.*[&\\\\?]\" + escape(key).replace(/[\\.\\+\\*]/g, \"\\\\$&\") + \"(?:\\\\=([^&]*))?)?.*$\", \"i\"), \"$1\"));\n",
       "}\n",
       "\n",
       "IPython.notebook.kernel.execute(\"docID='\".concat(getQueryStringValue(\"docID\")).concat(\"'\"));"
      ],
      "text/plain": [
       "<IPython.core.display.Javascript object>"
      ]
     },
     "metadata": {},
     "output_type": "display_data"
    }
   ],
   "source": [
    "%%javascript\n",
    "function getQueryStringValue (key){  \n",
    "    return unescape(window.location.search.replace(new RegExp(\"^(?:.*[&\\\\?]\" + escape(key).replace(/[\\.\\+\\*]/g, \"\\\\$&\") + \"(?:\\\\=([^&]*))?)?.*$\", \"i\"), \"$1\"));\n",
    "}\n",
    "\n",
    "IPython.notebook.kernel.execute(\"docID='\".concat(getQueryStringValue(\"docID\")).concat(\"'\"));"
   ]
  },
  {
   "cell_type": "code",
   "execution_count": 123,
   "metadata": {},
   "outputs": [
    {
     "name": "stdout",
     "output_type": "stream",
     "text": [
      "dict_keys(['36. http://www.ndbc.noaa.gov/view_text_file.php?filename=venf1h1996.txt.gz&dir=data/historical/stdmet/', '20. http://www.ndbc.noaa.gov/view_text_file.php?filename=venf1c2012.txt.gz&dir=data/historical/cwind/', '50. http://www.ndbc.noaa.gov/view_text_file.php?filename=venf1h2010.txt.gz&dir=data/historical/stdmet/', '51. http://www.ndbc.noaa.gov/view_text_file.php?filename=venf1h2011.txt.gz&dir=data/historical/stdmet/', '47. http://www.ndbc.noaa.gov/view_text_file.php?filename=venf1h2007.txt.gz&dir=data/historical/stdmet/', '46. http://www.ndbc.noaa.gov/view_text_file.php?filename=venf1h2006.txt.gz&dir=data/historical/stdmet/', '37. http://www.ndbc.noaa.gov/view_text_file.php?filename=venf1h1997.txt.gz&dir=data/historical/stdmet/', '59. http://www.ndbc.noaa.gov/view_text_file.php?filename=venf1l2003.txt.gz&dir=data/historical/wlevel/', '17. http://www.ndbc.noaa.gov/view_text_file.php?filename=venf1c2009.txt.gz&dir=data/historical/cwind/', '15. http://www.ndbc.noaa.gov/view_text_file.php?filename=venf1c2007.txt.gz&dir=data/historical/cwind/', '21. http://www.ndbc.noaa.gov/view_text_file.php?filename=venf1c2013.txt.gz&dir=data/historical/cwind/', '14. http://www.ndbc.noaa.gov/view_text_file.php?filename=venf1c2006.txt.gz&dir=data/historical/cwind/', '16. http://www.ndbc.noaa.gov/view_text_file.php?filename=venf1c2008.txt.gz&dir=data/historical/cwind/', '42. http://www.ndbc.noaa.gov/view_text_file.php?filename=venf1h2002.txt.gz&dir=data/historical/stdmet/', '24. http://www.ndbc.noaa.gov/view_text_file.php?filename=venf1c2016.txt.gz&dir=data/historical/cwind/', '7. http://www.ndbc.noaa.gov/view_text_file.php?filename=venf1c1999.txt.gz&dir=data/historical/cwind/', '1. http://www.ndbc.noaa.gov/view_text_file.php?filename=venf1c1991.txt.gz&dir=data/historical/cwind/', '18. http://www.ndbc.noaa.gov/view_text_file.php?filename=venf1c2010.txt.gz&dir=data/historical/cwind/', '26. http://www.ndbc.noaa.gov/view_text_file.php?filename=venf1h1986.txt.gz&dir=data/historical/stdmet/', '10. http://www.ndbc.noaa.gov/view_text_file.php?filename=venf1c2002.txt.gz&dir=data/historical/cwind/', '53. http://www.ndbc.noaa.gov/view_text_file.php?filename=venf1h2013.txt.gz&dir=data/historical/stdmet/', '41. http://www.ndbc.noaa.gov/view_text_file.php?filename=venf1h2001.txt.gz&dir=data/historical/stdmet/', '0. http://www.ndbc.noaa.gov/view_text_file.php?filename=venf1c1990.txt.gz&dir=data/historical/cwind/', '57. http://www.ndbc.noaa.gov/view_text_file.php?filename=venf1h2017.txt.gz&dir=data/historical/stdmet/', '55. http://www.ndbc.noaa.gov/view_text_file.php?filename=venf1h2015.txt.gz&dir=data/historical/stdmet/', '23. http://www.ndbc.noaa.gov/view_text_file.php?filename=venf1c2015.txt.gz&dir=data/historical/cwind/', '5. http://www.ndbc.noaa.gov/view_text_file.php?filename=venf1c1997.txt.gz&dir=data/historical/cwind/', '12. http://www.ndbc.noaa.gov/view_text_file.php?filename=venf1c2004.txt.gz&dir=data/historical/cwind/', '32. http://www.ndbc.noaa.gov/view_text_file.php?filename=venf1h1992.txt.gz&dir=data/historical/stdmet/', '4. http://www.ndbc.noaa.gov/view_text_file.php?filename=venf1c1996.txt.gz&dir=data/historical/cwind/', '61. http://www.ndbc.noaa.gov/view_text_file.php?filename=venf1l2006.txt.gz&dir=data/historical/wlevel/', '31. http://www.ndbc.noaa.gov/view_text_file.php?filename=venf1h1991.txt.gz&dir=data/historical/stdmet/', '45. http://www.ndbc.noaa.gov/view_text_file.php?filename=venf1h2005.txt.gz&dir=data/historical/stdmet/', '63. http://www.ndbc.noaa.gov/view_text_file.php?filename=venf1l2008.txt.gz&dir=data/historical/wlevel/', '25. http://www.ndbc.noaa.gov/view_text_file.php?filename=venf1c2017.txt.gz&dir=data/historical/cwind/', '62. http://www.ndbc.noaa.gov/view_text_file.php?filename=venf1l2007.txt.gz&dir=data/historical/wlevel/', '49. http://www.ndbc.noaa.gov/view_text_file.php?filename=venf1h2009.txt.gz&dir=data/historical/stdmet/', '6. http://www.ndbc.noaa.gov/view_text_file.php?filename=venf1c1998.txt.gz&dir=data/historical/cwind/', '9. http://www.ndbc.noaa.gov/view_text_file.php?filename=venf1c2001.txt.gz&dir=data/historical/cwind/', '2. http://www.ndbc.noaa.gov/view_text_file.php?filename=venf1c1992.txt.gz&dir=data/historical/cwind/', '58. http://www.ndbc.noaa.gov/view_text_file.php?filename=venf1l2002.txt.gz&dir=data/historical/wlevel/', '19. http://www.ndbc.noaa.gov/view_text_file.php?filename=venf1c2011.txt.gz&dir=data/historical/cwind/', '8. http://www.ndbc.noaa.gov/view_text_file.php?filename=venf1c2000.txt.gz&dir=data/historical/cwind/', '38. http://www.ndbc.noaa.gov/view_text_file.php?filename=venf1h1998.txt.gz&dir=data/historical/stdmet/', '52. http://www.ndbc.noaa.gov/view_text_file.php?filename=venf1h2012.txt.gz&dir=data/historical/stdmet/', '27. http://www.ndbc.noaa.gov/view_text_file.php?filename=venf1h1987.txt.gz&dir=data/historical/stdmet/', '30. http://www.ndbc.noaa.gov/view_text_file.php?filename=venf1h1990.txt.gz&dir=data/historical/stdmet/', '35. http://www.ndbc.noaa.gov/view_text_file.php?filename=venf1h1995.txt.gz&dir=data/historical/stdmet/', '40. http://www.ndbc.noaa.gov/view_text_file.php?filename=venf1h2000.txt.gz&dir=data/historical/stdmet/', '11. http://www.ndbc.noaa.gov/view_text_file.php?filename=venf1c2003.txt.gz&dir=data/historical/cwind/', '22. http://www.ndbc.noaa.gov/view_text_file.php?filename=venf1c2014.txt.gz&dir=data/historical/cwind/', '13. http://www.ndbc.noaa.gov/view_text_file.php?filename=venf1c2005.txt.gz&dir=data/historical/cwind/', '34. http://www.ndbc.noaa.gov/view_text_file.php?filename=venf1h1994.txt.gz&dir=data/historical/stdmet/', '56. http://www.ndbc.noaa.gov/view_text_file.php?filename=venf1h2016.txt.gz&dir=data/historical/stdmet/', '39. http://www.ndbc.noaa.gov/view_text_file.php?filename=venf1h1999.txt.gz&dir=data/historical/stdmet/', '33. http://www.ndbc.noaa.gov/view_text_file.php?filename=venf1h1993.txt.gz&dir=data/historical/stdmet/', '43. http://www.ndbc.noaa.gov/view_text_file.php?filename=venf1h2003.txt.gz&dir=data/historical/stdmet/', '3. http://www.ndbc.noaa.gov/view_text_file.php?filename=venf1c1993.txt.gz&dir=data/historical/cwind/', '28. http://www.ndbc.noaa.gov/view_text_file.php?filename=venf1h1988.txt.gz&dir=data/historical/stdmet/', '48. http://www.ndbc.noaa.gov/view_text_file.php?filename=venf1h2008.txt.gz&dir=data/historical/stdmet/', '60. http://www.ndbc.noaa.gov/view_text_file.php?filename=venf1l2004.txt.gz&dir=data/historical/wlevel/', '44. http://www.ndbc.noaa.gov/view_text_file.php?filename=venf1h2004.txt.gz&dir=data/historical/stdmet/', '54. http://www.ndbc.noaa.gov/view_text_file.php?filename=venf1h2014.txt.gz&dir=data/historical/stdmet/', '29. http://www.ndbc.noaa.gov/view_text_file.php?filename=venf1h1989.txt.gz&dir=data/historical/stdmet/'])\n",
      "dict_values(['http://www.ndbc.noaa.gov/view_text_file.php?filename=venf1h1996.txt.gz&dir=data/historical/stdmet/', 'http://www.ndbc.noaa.gov/view_text_file.php?filename=venf1c2012.txt.gz&dir=data/historical/cwind/', 'http://www.ndbc.noaa.gov/view_text_file.php?filename=venf1h2010.txt.gz&dir=data/historical/stdmet/', 'http://www.ndbc.noaa.gov/view_text_file.php?filename=venf1h2011.txt.gz&dir=data/historical/stdmet/', 'http://www.ndbc.noaa.gov/view_text_file.php?filename=venf1h2007.txt.gz&dir=data/historical/stdmet/', 'http://www.ndbc.noaa.gov/view_text_file.php?filename=venf1h2006.txt.gz&dir=data/historical/stdmet/', 'http://www.ndbc.noaa.gov/view_text_file.php?filename=venf1h1997.txt.gz&dir=data/historical/stdmet/', 'http://www.ndbc.noaa.gov/view_text_file.php?filename=venf1l2003.txt.gz&dir=data/historical/wlevel/', 'http://www.ndbc.noaa.gov/view_text_file.php?filename=venf1c2009.txt.gz&dir=data/historical/cwind/', 'http://www.ndbc.noaa.gov/view_text_file.php?filename=venf1c2007.txt.gz&dir=data/historical/cwind/', 'http://www.ndbc.noaa.gov/view_text_file.php?filename=venf1c2013.txt.gz&dir=data/historical/cwind/', 'http://www.ndbc.noaa.gov/view_text_file.php?filename=venf1c2006.txt.gz&dir=data/historical/cwind/', 'http://www.ndbc.noaa.gov/view_text_file.php?filename=venf1c2008.txt.gz&dir=data/historical/cwind/', 'http://www.ndbc.noaa.gov/view_text_file.php?filename=venf1h2002.txt.gz&dir=data/historical/stdmet/', 'http://www.ndbc.noaa.gov/view_text_file.php?filename=venf1c2016.txt.gz&dir=data/historical/cwind/', 'http://www.ndbc.noaa.gov/view_text_file.php?filename=venf1c1999.txt.gz&dir=data/historical/cwind/', 'http://www.ndbc.noaa.gov/view_text_file.php?filename=venf1c1991.txt.gz&dir=data/historical/cwind/', 'http://www.ndbc.noaa.gov/view_text_file.php?filename=venf1c2010.txt.gz&dir=data/historical/cwind/', 'http://www.ndbc.noaa.gov/view_text_file.php?filename=venf1h1986.txt.gz&dir=data/historical/stdmet/', 'http://www.ndbc.noaa.gov/view_text_file.php?filename=venf1c2002.txt.gz&dir=data/historical/cwind/', 'http://www.ndbc.noaa.gov/view_text_file.php?filename=venf1h2013.txt.gz&dir=data/historical/stdmet/', 'http://www.ndbc.noaa.gov/view_text_file.php?filename=venf1h2001.txt.gz&dir=data/historical/stdmet/', 'http://www.ndbc.noaa.gov/view_text_file.php?filename=venf1c1990.txt.gz&dir=data/historical/cwind/', 'http://www.ndbc.noaa.gov/view_text_file.php?filename=venf1h2017.txt.gz&dir=data/historical/stdmet/', 'http://www.ndbc.noaa.gov/view_text_file.php?filename=venf1h2015.txt.gz&dir=data/historical/stdmet/', 'http://www.ndbc.noaa.gov/view_text_file.php?filename=venf1c2015.txt.gz&dir=data/historical/cwind/', 'http://www.ndbc.noaa.gov/view_text_file.php?filename=venf1c1997.txt.gz&dir=data/historical/cwind/', 'http://www.ndbc.noaa.gov/view_text_file.php?filename=venf1c2004.txt.gz&dir=data/historical/cwind/', 'http://www.ndbc.noaa.gov/view_text_file.php?filename=venf1h1992.txt.gz&dir=data/historical/stdmet/', 'http://www.ndbc.noaa.gov/view_text_file.php?filename=venf1c1996.txt.gz&dir=data/historical/cwind/', 'http://www.ndbc.noaa.gov/view_text_file.php?filename=venf1l2006.txt.gz&dir=data/historical/wlevel/', 'http://www.ndbc.noaa.gov/view_text_file.php?filename=venf1h1991.txt.gz&dir=data/historical/stdmet/', 'http://www.ndbc.noaa.gov/view_text_file.php?filename=venf1h2005.txt.gz&dir=data/historical/stdmet/', 'http://www.ndbc.noaa.gov/view_text_file.php?filename=venf1l2008.txt.gz&dir=data/historical/wlevel/', 'http://www.ndbc.noaa.gov/view_text_file.php?filename=venf1c2017.txt.gz&dir=data/historical/cwind/', 'http://www.ndbc.noaa.gov/view_text_file.php?filename=venf1l2007.txt.gz&dir=data/historical/wlevel/', 'http://www.ndbc.noaa.gov/view_text_file.php?filename=venf1h2009.txt.gz&dir=data/historical/stdmet/', 'http://www.ndbc.noaa.gov/view_text_file.php?filename=venf1c1998.txt.gz&dir=data/historical/cwind/', 'http://www.ndbc.noaa.gov/view_text_file.php?filename=venf1c2001.txt.gz&dir=data/historical/cwind/', 'http://www.ndbc.noaa.gov/view_text_file.php?filename=venf1c1992.txt.gz&dir=data/historical/cwind/', 'http://www.ndbc.noaa.gov/view_text_file.php?filename=venf1l2002.txt.gz&dir=data/historical/wlevel/', 'http://www.ndbc.noaa.gov/view_text_file.php?filename=venf1c2011.txt.gz&dir=data/historical/cwind/', 'http://www.ndbc.noaa.gov/view_text_file.php?filename=venf1c2000.txt.gz&dir=data/historical/cwind/', 'http://www.ndbc.noaa.gov/view_text_file.php?filename=venf1h1998.txt.gz&dir=data/historical/stdmet/', 'http://www.ndbc.noaa.gov/view_text_file.php?filename=venf1h2012.txt.gz&dir=data/historical/stdmet/', 'http://www.ndbc.noaa.gov/view_text_file.php?filename=venf1h1987.txt.gz&dir=data/historical/stdmet/', 'http://www.ndbc.noaa.gov/view_text_file.php?filename=venf1h1990.txt.gz&dir=data/historical/stdmet/', 'http://www.ndbc.noaa.gov/view_text_file.php?filename=venf1h1995.txt.gz&dir=data/historical/stdmet/', 'http://www.ndbc.noaa.gov/view_text_file.php?filename=venf1h2000.txt.gz&dir=data/historical/stdmet/', 'http://www.ndbc.noaa.gov/view_text_file.php?filename=venf1c2003.txt.gz&dir=data/historical/cwind/', 'http://www.ndbc.noaa.gov/view_text_file.php?filename=venf1c2014.txt.gz&dir=data/historical/cwind/', 'http://www.ndbc.noaa.gov/view_text_file.php?filename=venf1c2005.txt.gz&dir=data/historical/cwind/', 'http://www.ndbc.noaa.gov/view_text_file.php?filename=venf1h1994.txt.gz&dir=data/historical/stdmet/', 'http://www.ndbc.noaa.gov/view_text_file.php?filename=venf1h2016.txt.gz&dir=data/historical/stdmet/', 'http://www.ndbc.noaa.gov/view_text_file.php?filename=venf1h1999.txt.gz&dir=data/historical/stdmet/', 'http://www.ndbc.noaa.gov/view_text_file.php?filename=venf1h1993.txt.gz&dir=data/historical/stdmet/', 'http://www.ndbc.noaa.gov/view_text_file.php?filename=venf1h2003.txt.gz&dir=data/historical/stdmet/', 'http://www.ndbc.noaa.gov/view_text_file.php?filename=venf1c1993.txt.gz&dir=data/historical/cwind/', 'http://www.ndbc.noaa.gov/view_text_file.php?filename=venf1h1988.txt.gz&dir=data/historical/stdmet/', 'http://www.ndbc.noaa.gov/view_text_file.php?filename=venf1h2008.txt.gz&dir=data/historical/stdmet/', 'http://www.ndbc.noaa.gov/view_text_file.php?filename=venf1l2004.txt.gz&dir=data/historical/wlevel/', 'http://www.ndbc.noaa.gov/view_text_file.php?filename=venf1h2004.txt.gz&dir=data/historical/stdmet/', 'http://www.ndbc.noaa.gov/view_text_file.php?filename=venf1h2014.txt.gz&dir=data/historical/stdmet/', 'http://www.ndbc.noaa.gov/view_text_file.php?filename=venf1h1989.txt.gz&dir=data/historical/stdmet/'])\n"
     ]
    }
   ],
   "source": [
    "from __future__ import print_function\n",
    "from ipywidgets import interact, interactive, fixed, interact_manual\n",
    "import ipywidgets as widgets\n",
    "\n",
    "#construct url from variable\n",
    "cinergi_url = \"http://cinergi.sdsc.edu/geoportal/rest/metadata/item/\" + docID\n",
    "\n",
    "#Create dropdown Buttons and generate table\n",
    "data_dropdown_options = helpers.create_dropdown_data (cinergi_url)\n",
    "print (data_dropdown_options.keys())\n",
    "print (data_dropdown_options.values())"
   ]
  },
  {
   "cell_type": "code",
   "execution_count": 124,
   "metadata": {},
   "outputs": [
    {
     "data": {
      "application/vnd.jupyter.widget-view+json": {
       "model_id": "c2692a020b024f2ab7a9921e8742a052",
       "version_major": 2,
       "version_minor": 0
      },
      "text/plain": [
       "interactive(children=(Dropdown(description='notebooks_menu', options=('36. http://www.ndbc.noaa.gov/view_text_…"
      ]
     },
     "metadata": {},
     "output_type": "display_data"
    }
   ],
   "source": [
    "#Create widget with dropdown options from list created above\n",
    "def f(notebooks_menu):\n",
    "    return notebooks_menu\n",
    "# out = interact(f, notebooks_menu=nb_menu);\n",
    "out = interact(f, notebooks_menu=data_dropdown_options.keys());\n",
    "\n",
    "\n",
    "    "
   ]
  },
  {
   "cell_type": "code",
   "execution_count": 130,
   "metadata": {},
   "outputs": [
    {
     "name": "stdout",
     "output_type": "stream",
     "text": [
      "46. http://www.ndbc.noaa.gov/view_text_file.php?filename=venf1h2006.txt.gz&dir=data/historical/stdmet/\n",
      "http://www.ndbc.noaa.gov/view_text_file.php?filename=venf1h2006.txt.gz&dir=data/historical/stdmet/\n",
      " read file: http://www.ndbc.noaa.gov/view_text_file.php?filename=venf1h2006.txt.gz&dir=data/historical/stdmet/\n"
     ]
    },
    {
     "data": {
      "text/plain": [
       "\"2006 's data (number of variables in each column)\""
      ]
     },
     "metadata": {},
     "output_type": "display_data"
    },
    {
     "data": {
      "text/html": [
       "<style  type=\"text/css\" >\n",
       "</style>  \n",
       "<table id=\"T_0302dc86_6494_11e8_a8b9_fa163ecfd129\" > \n",
       "<thead>    <tr> \n",
       "        <th class=\"blank level0\" ></th> \n",
       "        <th class=\"col_heading level0 col0\" >year</th> \n",
       "        <th class=\"col_heading level0 col1\" >month</th> \n",
       "        <th class=\"col_heading level0 col2\" >day</th> \n",
       "        <th class=\"col_heading level0 col3\" >hour</th> \n",
       "        <th class=\"col_heading level0 col4\" >minute</th> \n",
       "        <th class=\"col_heading level0 col5\" >WD (145)</th> \n",
       "        <th class=\"col_heading level0 col6\" >WSPD (1.8)</th> \n",
       "        <th class=\"col_heading level0 col7\" >GST (2.2)</th> \n",
       "        <th class=\"col_heading level0 col8\" >WVHT (99.00)</th> \n",
       "        <th class=\"col_heading level0 col9\" >DPD (99.00)</th> \n",
       "        <th class=\"col_heading level0 col10\" >APD (99.00)</th> \n",
       "        <th class=\"col_heading level0 col11\" >MWD (999)</th> \n",
       "        <th class=\"col_heading level0 col12\" >BAR (1016.9)</th> \n",
       "        <th class=\"col_heading level0 col13\" >ATMP (19.1)</th> \n",
       "        <th class=\"col_heading level0 col14\" >WTMP (999.0)</th> \n",
       "        <th class=\"col_heading level0 col15\" >DEWP (18.0)</th> \n",
       "        <th class=\"col_heading level0 col16\" >VIS (99.0)</th> \n",
       "        <th class=\"col_heading level0 col17\" >TIDE (99.00)</th> \n",
       "        <th class=\"col_heading level0 col18\" >date_time</th> \n",
       "    </tr></thead> \n",
       "<tbody>    <tr> \n",
       "        <th id=\"T_0302dc86_6494_11e8_a8b9_fa163ecfd129level0_row0\" class=\"row_heading level0 row0\" >0</th> \n",
       "        <td id=\"T_0302dc86_6494_11e8_a8b9_fa163ecfd129row0_col0\" class=\"data row0 col0\" >8702</td> \n",
       "        <td id=\"T_0302dc86_6494_11e8_a8b9_fa163ecfd129row0_col1\" class=\"data row0 col1\" >8702</td> \n",
       "        <td id=\"T_0302dc86_6494_11e8_a8b9_fa163ecfd129row0_col2\" class=\"data row0 col2\" >8702</td> \n",
       "        <td id=\"T_0302dc86_6494_11e8_a8b9_fa163ecfd129row0_col3\" class=\"data row0 col3\" >8702</td> \n",
       "        <td id=\"T_0302dc86_6494_11e8_a8b9_fa163ecfd129row0_col4\" class=\"data row0 col4\" >8702</td> \n",
       "        <td id=\"T_0302dc86_6494_11e8_a8b9_fa163ecfd129row0_col5\" class=\"data row0 col5\" >8677</td> \n",
       "        <td id=\"T_0302dc86_6494_11e8_a8b9_fa163ecfd129row0_col6\" class=\"data row0 col6\" >8702</td> \n",
       "        <td id=\"T_0302dc86_6494_11e8_a8b9_fa163ecfd129row0_col7\" class=\"data row0 col7\" >8702</td> \n",
       "        <td id=\"T_0302dc86_6494_11e8_a8b9_fa163ecfd129row0_col8\" class=\"data row0 col8\" >0</td> \n",
       "        <td id=\"T_0302dc86_6494_11e8_a8b9_fa163ecfd129row0_col9\" class=\"data row0 col9\" >0</td> \n",
       "        <td id=\"T_0302dc86_6494_11e8_a8b9_fa163ecfd129row0_col10\" class=\"data row0 col10\" >0</td> \n",
       "        <td id=\"T_0302dc86_6494_11e8_a8b9_fa163ecfd129row0_col11\" class=\"data row0 col11\" >0</td> \n",
       "        <td id=\"T_0302dc86_6494_11e8_a8b9_fa163ecfd129row0_col12\" class=\"data row0 col12\" >8702</td> \n",
       "        <td id=\"T_0302dc86_6494_11e8_a8b9_fa163ecfd129row0_col13\" class=\"data row0 col13\" >8702</td> \n",
       "        <td id=\"T_0302dc86_6494_11e8_a8b9_fa163ecfd129row0_col14\" class=\"data row0 col14\" >5983</td> \n",
       "        <td id=\"T_0302dc86_6494_11e8_a8b9_fa163ecfd129row0_col15\" class=\"data row0 col15\" >8551</td> \n",
       "        <td id=\"T_0302dc86_6494_11e8_a8b9_fa163ecfd129row0_col16\" class=\"data row0 col16\" >0</td> \n",
       "        <td id=\"T_0302dc86_6494_11e8_a8b9_fa163ecfd129row0_col17\" class=\"data row0 col17\" >3078</td> \n",
       "        <td id=\"T_0302dc86_6494_11e8_a8b9_fa163ecfd129row0_col18\" class=\"data row0 col18\" >8702</td> \n",
       "    </tr></tbody> \n",
       "</table> "
      ],
      "text/plain": [
       "<pandas.io.formats.style.Styler at 0x7f596b5a8f60>"
      ]
     },
     "metadata": {},
     "output_type": "display_data"
    }
   ],
   "source": [
    "print (out.widget.result)\n",
    "chosen_url = data_dropdown_options[out.widget.result]\n",
    "print (chosen_url)\n",
    "\n",
    "data = helpers.create_data_from_urls([chosen_url])\n",
    "\n",
    "# Create Key Values for graph.\n",
    "graphKeyVals = []\n",
    "\n",
    "#Run all operations on Data\n",
    "for i in range(len(data)):\n",
    "    data[i].fillna('')\n",
    "    data[i] = helpers.simplify_column_names(data[i])\n",
    "    data[i] = helpers.createDateTime(data[i])\n",
    "    graphKeyVals.append( data[i]['date_time'][0].year)\n",
    "    data[i]['date_time']= data[i]['date_time'].apply(lambda x: x.replace(year= 2012))\n",
    "    \n",
    "#Create dropdown Buttons and generate table\n",
    "dropdown_options = helpers.create_dropdowns(data)"
   ]
  },
  {
   "cell_type": "code",
   "execution_count": 126,
   "metadata": {},
   "outputs": [
    {
     "ename": "NameError",
     "evalue": "name 'dropdown_options' is not defined",
     "output_type": "error",
     "traceback": [
      "\u001b[0;31m---------------------------------------------------------------------------\u001b[0m",
      "\u001b[0;31mNameError\u001b[0m                                 Traceback (most recent call last)",
      "\u001b[0;32m<ipython-input-126-35909e2905fa>\u001b[0m in \u001b[0;36m<module>\u001b[0;34m()\u001b[0m\n\u001b[1;32m      3\u001b[0m \u001b[0;31m#Create widget with dropdown options from list created above\u001b[0m\u001b[0;34m\u001b[0m\u001b[0;34m\u001b[0m\u001b[0m\n\u001b[1;32m      4\u001b[0m w = widgets.Dropdown(\n\u001b[0;32m----> 5\u001b[0;31m     \u001b[0moptions\u001b[0m\u001b[0;34m=\u001b[0m\u001b[0mdropdown_options\u001b[0m\u001b[0;34m,\u001b[0m\u001b[0;34m\u001b[0m\u001b[0m\n\u001b[0m\u001b[1;32m      6\u001b[0m     \u001b[0mdescription\u001b[0m\u001b[0;34m=\u001b[0m\u001b[0;34m'Number:'\u001b[0m\u001b[0;34m,\u001b[0m\u001b[0;34m\u001b[0m\u001b[0m\n\u001b[1;32m      7\u001b[0m     \u001b[0mdisabled\u001b[0m\u001b[0;34m=\u001b[0m\u001b[0;32mFalse\u001b[0m\u001b[0;34m,\u001b[0m\u001b[0;34m\u001b[0m\u001b[0m\n",
      "\u001b[0;31mNameError\u001b[0m: name 'dropdown_options' is not defined"
     ]
    }
   ],
   "source": [
    "# Example plot of the image based on values of WTMP (Can be changed to other variables)\n",
    "\n",
    "#Create widget with dropdown options from list created above\n",
    "w = widgets.Dropdown(\n",
    "    options=dropdown_options,\n",
    "    description='Number:',\n",
    "    disabled=False,\n",
    ")\n",
    "\n",
    "#Describe what happens when the button changes its value\n",
    "def on_change(change):\n",
    "    if change['type'] == 'change' and change['name'] == 'value':\n",
    "        clear_output()\n",
    "        %pylab inline\n",
    "        pylab.rcParams['figure.figsize'] = (25, 15)\n",
    "        helpers.plotTimeSeriesData(data,change['new'],graphKeyVals)\n",
    "        \n",
    "w.observe(on_change)\n",
    "display(w)"
   ]
  },
  {
   "cell_type": "code",
   "execution_count": null,
   "metadata": {},
   "outputs": [],
   "source": []
  },
  {
   "cell_type": "code",
   "execution_count": null,
   "metadata": {},
   "outputs": [],
   "source": []
  },
  {
   "cell_type": "code",
   "execution_count": null,
   "metadata": {},
   "outputs": [],
   "source": []
  },
  {
   "cell_type": "code",
   "execution_count": null,
   "metadata": {},
   "outputs": [],
   "source": []
  },
  {
   "cell_type": "code",
   "execution_count": null,
   "metadata": {},
   "outputs": [],
   "source": []
  },
  {
   "cell_type": "code",
   "execution_count": null,
   "metadata": {},
   "outputs": [],
   "source": []
  }
 ],
 "metadata": {
  "kernelspec": {
   "display_name": "Python 3",
   "language": "python",
   "name": "python3"
  },
  "language_info": {
   "codemirror_mode": {
    "name": "ipython",
    "version": 3
   },
   "file_extension": ".py",
   "mimetype": "text/x-python",
   "name": "python",
   "nbconvert_exporter": "python",
   "pygments_lexer": "ipython3",
   "version": "3.5.2"
  }
 },
 "nbformat": 4,
 "nbformat_minor": 2
}
