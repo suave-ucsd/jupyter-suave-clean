{
 "cells": [
  {
   "cell_type": "markdown",
   "metadata": {},
   "source": [
    "<h1><span style=\"color:red\">Add Color Statistics for Images in Image Collection</span></h1>\n",
    "\n",
    "### This sample notebook will read survey images and add lightness, hue, brightness, saturation, and RGB values to a new survey version"
   ]
  },
  {
   "cell_type": "markdown",
   "metadata": {},
   "source": [
    "## 1. Retrieve survey parameters from the URL"
   ]
  },
  {
   "cell_type": "code",
   "execution_count": 58,
   "metadata": {},
   "outputs": [
    {
     "data": {
      "application/javascript": [
       "function getQueryStringValue (key)\n",
       "{  \n",
       "    return unescape(window.location.search.replace(new RegExp(\"^(?:.*[&\\\\?]\" + escape(key).replace(/[\\.\\+\\*]/g, \"\\\\$&\") + \"(?:\\\\=([^&]*))?)?.*$\", \"i\"), \"$1\"));\n",
       "}\n",
       "IPython.notebook.kernel.execute(\"survey_url='\".concat(getQueryStringValue(\"surveyurl\")).concat(\"'\"));\n",
       "IPython.notebook.kernel.execute(\"views='\".concat(getQueryStringValue(\"views\")).concat(\"'\"));\n",
       "IPython.notebook.kernel.execute(\"view='\".concat(getQueryStringValue(\"view\")).concat(\"'\"));\n",
       "IPython.notebook.kernel.execute(\"user='\".concat(getQueryStringValue(\"user\")).concat(\"'\"));\n",
       "IPython.notebook.kernel.execute(\"csv_file='\".concat(getQueryStringValue(\"csv\")).concat(\"'\")); \n",
       "IPython.notebook.kernel.execute(\"dzc_file='\".concat(getQueryStringValue(\"dzc\")).concat(\"'\")); \n",
       "IPython.notebook.kernel.execute(\"params='\".concat(getQueryStringValue(\"params\")).concat(\"'\")); \n",
       "IPython.notebook.kernel.execute(\"active_object='\".concat(getQueryStringValue(\"activeobject\")).concat(\"'\")); \n",
       "IPython.notebook.kernel.execute(\"full_notebook_url='\" + window.location + \"'\"); "
      ],
      "text/plain": [
       "<IPython.core.display.Javascript object>"
      ]
     },
     "metadata": {},
     "output_type": "display_data"
    }
   ],
   "source": [
    "%%javascript\n",
    "function getQueryStringValue (key)\n",
    "{  \n",
    "    return unescape(window.location.search.replace(new RegExp(\"^(?:.*[&\\\\?]\" + escape(key).replace(/[\\.\\+\\*]/g, \"\\\\$&\") + \"(?:\\\\=([^&]*))?)?.*$\", \"i\"), \"$1\"));\n",
    "}\n",
    "IPython.notebook.kernel.execute(\"survey_url='\".concat(getQueryStringValue(\"surveyurl\")).concat(\"'\"));\n",
    "IPython.notebook.kernel.execute(\"views='\".concat(getQueryStringValue(\"views\")).concat(\"'\"));\n",
    "IPython.notebook.kernel.execute(\"view='\".concat(getQueryStringValue(\"view\")).concat(\"'\"));\n",
    "IPython.notebook.kernel.execute(\"user='\".concat(getQueryStringValue(\"user\")).concat(\"'\"));\n",
    "IPython.notebook.kernel.execute(\"csv_file='\".concat(getQueryStringValue(\"csv\")).concat(\"'\")); \n",
    "IPython.notebook.kernel.execute(\"dzc_file='\".concat(getQueryStringValue(\"dzc\")).concat(\"'\")); \n",
    "IPython.notebook.kernel.execute(\"params='\".concat(getQueryStringValue(\"params\")).concat(\"'\")); \n",
    "IPython.notebook.kernel.execute(\"active_object='\".concat(getQueryStringValue(\"activeobject\")).concat(\"'\")); \n",
    "IPython.notebook.kernel.execute(\"full_notebook_url='\" + window.location + \"'\"); "
   ]
  },
  {
   "cell_type": "markdown",
   "metadata": {},
   "source": [
    "## 2. Read the survey file and navigate to full-size images"
   ]
  },
  {
   "cell_type": "code",
   "execution_count": 59,
   "metadata": {},
   "outputs": [],
   "source": [
    "from __future__ import print_function\n",
    "from ipywidgets import interact, interactive, fixed, interact_manual\n",
    "import ipywidgets as widgets\n",
    "from PIL import Image, ImageStat\n",
    "import glob, os\n",
    "import csv\n",
    "import pandas as pd\n",
    "from IPython.display import Markdown, display\n",
    "\n",
    "def printmd(string):\n",
    "    display(Markdown(string))\n",
    "\n",
    "# remember the current directory\n",
    "# curdir = os.getcwd()\n",
    "absolutePath = \"../../temp_csvs/\"\n",
    "\n",
    "# read the csv file\n",
    "file = open(absolutePath + csv_file, encoding=\"latin-1\")\n",
    "df = pd.read_csv(file)\n",
    "dflen = len(df.columns)\n",
    "\n",
    "localdzc = dzc_file.replace(\"https://maxim.ucsd.edu/dzgen/lib-staging-uploads\",\"/lib-nfs/dzgen\")\n",
    "full_images_location = localdzc.replace(\"/content.dzc\",\"/full_images/\")\n"
   ]
  },
  {
   "cell_type": "code",
   "execution_count": 60,
   "metadata": {},
   "outputs": [
    {
     "data": {
      "text/markdown": [
       "<b><span style='color:red'>The following color characteristics will be added:</span></b>"
      ],
      "text/plain": [
       "<IPython.core.display.Markdown object>"
      ]
     },
     "metadata": {},
     "output_type": "display_data"
    },
    {
     "name": "stdout",
     "output_type": "stream",
     "text": [
      "Red-Green-Blue bands: Mean, Median, Standard Deviation: YES\n",
      "Lightness: Mean, Median, Standard Deviation: YES\n"
     ]
    },
    {
     "data": {
      "text/markdown": [
       "<b><span style='color:red'>Modify and rerun this cell to adjust</span></b>"
      ],
      "text/plain": [
       "<IPython.core.display.Markdown object>"
      ]
     },
     "metadata": {},
     "output_type": "display_data"
    }
   ],
   "source": [
    "# include RGB values\n",
    "RGB = True\n",
    "# include Lightness values\n",
    "Light = True\n",
    "# include rms values\n",
    "rms = False\n",
    "printmd(\"<b><span style='color:red'>The following color characteristics will be added:</span></b>\")\n",
    "if RGB:\n",
    "    print('Red-Green-Blue bands: Mean, Median, Standard Deviation: YES')\n",
    "if Light:\n",
    "    print('Lightness: Mean, Median, Standard Deviation: YES')\n",
    "if rms:\n",
    "    print('Root-Mean-Square for the above bands: : YES')\n",
    "\n",
    "printmd(\"<b><span style='color:red'>Modify and rerun this cell to adjust</span></b>\")\n"
   ]
  },
  {
   "cell_type": "markdown",
   "metadata": {},
   "source": [
    "## 3. Specify band statistics functions ##"
   ]
  },
  {
   "cell_type": "code",
   "execution_count": 61,
   "metadata": {},
   "outputs": [],
   "source": [
    "def lightness( im_file ):\n",
    "    im = Image.open(im_file).convert('L')\n",
    "    stat = ImageStat.Stat(im)\n",
    "    return [stat.mean[0], stat.median[0], stat.rms[0], stat.stddev[0]]\n",
    "\n",
    "def RGBstats ( im_file ):\n",
    "    im = Image.open(im_file).convert('RGB')\n",
    "    stat = ImageStat.Stat(im)\n",
    "    return [\n",
    "        [stat.mean[0], stat.median[0], stat.rms[0], stat.stddev[0]],\n",
    "        [stat.mean[1], stat.median[1], stat.rms[1], stat.stddev[1]],\n",
    "        [stat.mean[2], stat.median[2], stat.rms[2], stat.stddev[2]]\n",
    "    ]\n",
    "def HSVstats ( im_file ):\n",
    "    im = Image.open(im_file).convert('HSV')\n",
    "    stat = ImageStat.Stat(im)\n",
    "    return [\n",
    "        [stat.mean[0], stat.median[0], stat.rms[0], stat.stddev[0]],\n",
    "        [stat.mean[1], stat.median[1], stat.rms[1], stat.stddev[1]],\n",
    "        [stat.mean[2], stat.median[2], stat.rms[2], stat.stddev[2]]\n",
    "    ]"
   ]
  },
  {
   "cell_type": "markdown",
   "metadata": {},
   "source": [
    "## 4. Process images (will take a while)"
   ]
  },
  {
   "cell_type": "code",
   "execution_count": 62,
   "metadata": {
    "scrolled": true
   },
   "outputs": [
    {
     "data": {
      "application/vnd.jupyter.widget-view+json": {
       "model_id": "6b62e198f6164c8b9629ee2f0f9d5131",
       "version_major": 2,
       "version_minor": 0
      },
      "text/plain": [
       "Label(value='0% done')"
      ]
     },
     "metadata": {},
     "output_type": "display_data"
    },
    {
     "data": {
      "text/markdown": [
       "<b><span style='color:red'>All files processed</span></b>"
      ],
      "text/plain": [
       "<IPython.core.display.Markdown object>"
      ]
     },
     "metadata": {},
     "output_type": "display_data"
    }
   ],
   "source": [
    "# Processing image file and adding to data frame\n",
    "all_data = []\n",
    "counter = 0\n",
    "a = widgets.Label(value=\"0% done\")\n",
    "display(a)\n",
    "\n",
    "# Uncomment only if want to process based on level 8 tiles. It is faster but not as accurate.\n",
    "# for dzi in glob.glob(\"*.dzi\"):\n",
    "#     file = os.path.join(os.getcwd(), dzi[:-4] +\"_files\", \"8\", \"0_0.jpg\")\n",
    "\n",
    "# numfiles = len(glob.glob(\"*.png\"))\n",
    "numfiles = len(glob.glob(full_images_location+\"*.png\"))\n",
    "\n",
    "for file in glob.glob(full_images_location+\"*.png\"):\n",
    "    file_data = {} # data for this particular file\n",
    "    try:\n",
    "        file_data['#img'] = os.path.basename(file)[:-4]\n",
    "        file_data['Lightness_mean']   = lightness(file)[0]\n",
    "        file_data['Lightness_median'] = lightness(file)[1]\n",
    "        file_data['Lightness_rms']    = lightness(file)[2]\n",
    "        file_data['Lightness_std']    = lightness(file)[3]\n",
    "        file_data['Hue_mean']          = HSVstats(file)[0][0]\n",
    "        file_data['Hue_median']        = HSVstats(file)[0][1]\n",
    "        file_data['Hue_rms']           = HSVstats(file)[0][2]\n",
    "        file_data['Hue_std']           = HSVstats(file)[0][3]\n",
    "        file_data['Saturation_mean']   = HSVstats(file)[1][0]\n",
    "        file_data['Saturation_median'] = HSVstats(file)[1][1]\n",
    "        file_data['Saturation_rms']    = HSVstats(file)[1][2]\n",
    "        file_data['Saturation_std']    = HSVstats(file)[1][3]\n",
    "        file_data['Brightness_mean']        = HSVstats(file)[2][0]\n",
    "        file_data['Brightness_median']      = HSVstats(file)[2][1]\n",
    "        file_data['Brightness_rms']         = HSVstats(file)[2][2]\n",
    "        file_data['Brightness_std']         = HSVstats(file)[2][3]\n",
    "        file_data['Red_mean']          = RGBstats(file)[0][0]\n",
    "        file_data['Red_median']        = RGBstats(file)[0][1]\n",
    "        file_data['Red_rms']           = RGBstats(file)[0][2]\n",
    "        file_data['Red_std']           = RGBstats(file)[0][3]\n",
    "        file_data['Green_mean']        = RGBstats(file)[1][0]\n",
    "        file_data['Green_median']      = RGBstats(file)[1][1]\n",
    "        file_data['Green_rms']         = RGBstats(file)[1][2]\n",
    "        file_data['Green_std']         = RGBstats(file)[1][3]\n",
    "        file_data['Blue_mean']         = RGBstats(file)[2][0]\n",
    "        file_data['Blue_median']       = RGBstats(file)[2][1]\n",
    "        file_data['Blue_rms']          = RGBstats(file)[2][2]\n",
    "        file_data['Blue_std']          = RGBstats(file)[2][3]\n",
    "        all_data.append(file_data)    \n",
    "    except Exception as e:\n",
    "        print(file, \"There was an issue: \", e)\n",
    "    counter += 1\n",
    "    a.value = str(int(counter / numfiles * 100)) + \"% done\"\n",
    "#debugging\n",
    "    #display(a)\n",
    "        #print(str(counter),\" ::  Processed file: \", file)\n",
    "    #if counter == 30:\n",
    "    #      break\n",
    "        \n",
    "newdf = pd.DataFrame(all_data).fillna('')\n",
    "printmd(\"<b><span style='color:red'>All files processed</span></b>\")"
   ]
  },
  {
   "cell_type": "markdown",
   "metadata": {},
   "source": [
    "## 5. Add the result to the survey dataframe ##"
   ]
  },
  {
   "cell_type": "code",
   "execution_count": 63,
   "metadata": {
    "scrolled": true
   },
   "outputs": [
    {
     "data": {
      "text/markdown": [
       "<br><b><span style='color:red'>The following columns will be added:</span></b>"
      ],
      "text/plain": [
       "<IPython.core.display.Markdown object>"
      ]
     },
     "metadata": {},
     "output_type": "display_data"
    },
    {
     "name": "stdout",
     "output_type": "stream",
     "text": [
      "['Brightness_mean', 'Brightness_median', 'Brightness_std', 'Hue_mean', 'Hue_median', 'Hue_std', 'Saturation_mean', 'Saturation_median', 'Saturation_std', 'Lightness_mean', 'Lightness_median', 'Lightness_std', 'Red_mean', 'Red_median', 'Red_std', 'Green_mean', 'Green_median', 'Green_std', 'Blue_mean', 'Blue_median', 'Blue_std']\n"
     ]
    }
   ],
   "source": [
    "columnTitles = [\n",
    "    '#img',\n",
    "    'Brightness_mean','Brightness_median']\n",
    "if rms:\n",
    "    columnTitles.append('Brightness_rms')\n",
    "columnTitles.extend(('Brightness_std','Hue_mean','Hue_median'))\n",
    "if rms:\n",
    "    columnTitles.append('Hue_rms')\n",
    "columnTitles.extend(('Hue_std','Saturation_mean','Saturation_median'))\n",
    "if rms:\n",
    "    columnTitles.append('Saturation_rms')\n",
    "columnTitles.append('Saturation_std')\n",
    "\n",
    "if Light:\n",
    "    columnTitles.extend(('Lightness_mean', 'Lightness_median'))\n",
    "    if rms: \n",
    "        columnTitles.append('Lightness_rms')\n",
    "    columnTitles.append('Lightness_std')\n",
    "    \n",
    "if RGB:\n",
    "    columnTitles.extend(('Red_mean','Red_median'))\n",
    "    if rms:\n",
    "        columnTitles.append('Red_rms')\n",
    "    columnTitles.extend(('Red_std','Green_mean','Green_median'))\n",
    "    if rms:\n",
    "        columnTitles.append('Green_rms')\n",
    "    columnTitles.extend(('Green_std','Blue_mean','Blue_median'))\n",
    "    if rms:\n",
    "        columnTitles.append('Blue_rms')\n",
    "    columnTitles.append('Blue_std')\n",
    "\n",
    "printmd(\"<br><b><span style='color:red'>The following columns will be added:</span></b>\")    \n",
    "print(columnTitles[1:])\n",
    "\n",
    "newdf = newdf[columnTitles]\n"
   ]
  },
  {
   "cell_type": "code",
   "execution_count": 64,
   "metadata": {},
   "outputs": [
    {
     "data": {
      "text/markdown": [
       "<b><span style='color:red'>Dataframe created</span></b>"
      ],
      "text/plain": [
       "<IPython.core.display.Markdown object>"
      ]
     },
     "metadata": {},
     "output_type": "display_data"
    }
   ],
   "source": [
    "# add #number to numeric colomn names\n",
    "\n",
    "collist = []\n",
    "for col in newdf.columns:\n",
    "    col1 = col+\"#number\"\n",
    "    collist.append(col1)\n",
    "newdf.columns = collist\n",
    "newdf = newdf.rename(columns={'#img#number': '#img'})\n",
    "df = pd.merge(df, newdf, on='#img', how='outer')\n",
    "printmd(\"<b><span style='color:red'>Dataframe created</span></b>\")"
   ]
  },
  {
   "cell_type": "markdown",
   "metadata": {},
   "source": [
    "## 6. Save the new version of CSV file, and give a name to new survey"
   ]
  },
  {
   "cell_type": "code",
   "execution_count": 65,
   "metadata": {},
   "outputs": [
    {
     "data": {
      "text/markdown": [
       "<b><span style='color:red'>A new temporary file will be created at: </span></b>"
      ],
      "text/plain": [
       "<IPython.core.display.Markdown object>"
      ]
     },
     "metadata": {},
     "output_type": "display_data"
    },
    {
     "name": "stdout",
     "output_type": "stream",
     "text": [
      "../../temp_csvs/public_Picasso_Paintings_v1.csv\n"
     ]
    }
   ],
   "source": [
    "new_file = absolutePath + csv_file[:-4]+'_v1.csv'\n",
    "printmd(\"<b><span style='color:red'>A new temporary file will be created at: </span></b>\")\n",
    "print(new_file)\n",
    "df.to_csv(new_file, index=None)"
   ]
  },
  {
   "cell_type": "code",
   "execution_count": 66,
   "metadata": {},
   "outputs": [
    {
     "data": {
      "text/markdown": [
       "<b><span style='color:red'>Input survey name here, press Enter, and then run the next cell:</span></b>"
      ],
      "text/plain": [
       "<IPython.core.display.Markdown object>"
      ]
     },
     "metadata": {},
     "output_type": "display_data"
    },
    {
     "data": {
      "application/vnd.jupyter.widget-view+json": {
       "model_id": "992002528a6f4a3a95a9ba8a60059caa",
       "version_major": 2,
       "version_minor": 0
      },
      "text/plain": [
       "Text(value='')"
      ]
     },
     "metadata": {},
     "output_type": "display_data"
    },
    {
     "data": {
      "application/vnd.jupyter.widget-view+json": {
       "model_id": "cad8234c794642a9a5fca8f0cf10f8f2",
       "version_major": 2,
       "version_minor": 0
      },
      "text/plain": [
       "Text(value='')"
      ]
     },
     "metadata": {},
     "output_type": "display_data"
    }
   ],
   "source": [
    "#Input survey name\n",
    "\n",
    "from IPython.display import display\n",
    "input_text = widgets.Text()\n",
    "output_text = widgets.Text()\n",
    "\n",
    "def bind_input_to_output(sender):\n",
    "    output_text.value = input_text.value\n",
    "\n",
    "# Tell the text input widget to call bind_input_to_output() on submit\n",
    "input_text.on_submit(bind_input_to_output)\n",
    "\n",
    "printmd(\"<b><span style='color:red'>Input survey name here, press Enter, and then run the next cell:</span></b>\")\n",
    "# Display input text box widget for input\n",
    "display(input_text)\n",
    "\n",
    "display(output_text)"
   ]
  },
  {
   "cell_type": "code",
   "execution_count": 67,
   "metadata": {},
   "outputs": [
    {
     "data": {
      "text/markdown": [
       "<b><span style='color:red'>Survey Name is: </span></b>picolo2"
      ],
      "text/plain": [
       "<IPython.core.display.Markdown object>"
      ]
     },
     "metadata": {},
     "output_type": "display_data"
    }
   ],
   "source": [
    "#Print survey name\n",
    "survey_name = output_text.value\n",
    "printmd(\"<b><span style='color:red'>Survey Name is: </span></b>\" + survey_name)"
   ]
  },
  {
   "cell_type": "markdown",
   "metadata": {},
   "source": [
    "## 7. Generate the survey and create survey URL"
   ]
  },
  {
   "cell_type": "code",
   "execution_count": 68,
   "metadata": {},
   "outputs": [
    {
     "data": {
      "text/markdown": [
       "<b><span style='color:red'>New survey created successfully</span></b>"
      ],
      "text/plain": [
       "<IPython.core.display.Markdown object>"
      ]
     },
     "metadata": {},
     "output_type": "display_data"
    },
    {
     "name": "stdout",
     "output_type": "stream",
     "text": [
      "https://suave-dev.sdsc.edu/main/file=public_picolo2.csv&views=1110101&view=grid\n"
     ]
    },
    {
     "data": {
      "text/markdown": [
       "<b><span style='color:red'>Click the URL to open the new survey</span></b>"
      ],
      "text/plain": [
       "<IPython.core.display.Markdown object>"
      ]
     },
     "metadata": {},
     "output_type": "display_data"
    }
   ],
   "source": [
    "referer = survey_url.split(\"/main\")[0] +\"/\"\n",
    "upload_url = referer + \"uploadCSV\"\n",
    "new_survey_url_base = survey_url.split(user)[0]\n",
    "\n",
    "import requests\n",
    "import re\n",
    "csv = {\"file\": open(new_file, \"rb\")}\n",
    "upload_data = {\n",
    "    'name': input_text.value,\n",
    "    'dzc': dzc_file,\n",
    "    'user':user\n",
    "}\n",
    "headers = {\n",
    "    'User-Agent': 'suave user agent',\n",
    "    'referer': referer\n",
    "}\n",
    "\n",
    "r = requests.post(upload_url, files=csv, data=upload_data, headers=headers)\n",
    "\n",
    "if r.status_code == 200:\n",
    "    printmd(\"<b><span style='color:red'>New survey created successfully</span></b>\")\n",
    "    regex = re.compile('[^0-9a-zA-Z_]')\n",
    "    s_url = survey_name\n",
    "    s_url =  regex.sub('_', s_url)\n",
    "\n",
    "    url = new_survey_url_base + user + \"_\" + input_text.value + \".csv\" + \"&views=\" + views + \"&view=\" + view\n",
    "    print(url)\n",
    "    printmd(\"<b><span style='color:red'>Click the URL to open the new survey</span></b>\")\n",
    "else:\n",
    "    printmd(\"<b><span style='color:red'>Error creating new survey. Check if a survey with this name already exists.</span></b>\")\n",
    "    printmd(\"<b><span style='color:red'>Reason: </span></b>\"+ str(r.status_code) + \" \" + r.reason)\n",
    "\n"
   ]
  },
  {
   "cell_type": "code",
   "execution_count": null,
   "metadata": {},
   "outputs": [],
   "source": []
  }
 ],
 "metadata": {
  "kernelspec": {
   "display_name": "Python 3",
   "language": "python",
   "name": "python3"
  },
  "language_info": {
   "codemirror_mode": {
    "name": "ipython",
    "version": 3
   },
   "file_extension": ".py",
   "mimetype": "text/x-python",
   "name": "python",
   "nbconvert_exporter": "python",
   "pygments_lexer": "ipython3",
   "version": "3.5.2"
  }
 },
 "nbformat": 4,
 "nbformat_minor": 2
}
