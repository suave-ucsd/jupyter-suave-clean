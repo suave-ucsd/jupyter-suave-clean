{
 "cells": [
  {
   "cell_type": "markdown",
   "metadata": {},
   "source": [
    "<h1><span style=\"color:red\">Generate Concepts from Images in Image Collection</span></h1>\n",
    "\n",
    "### This sample notebook will read survey images and add concepts found in the images to a new version of  SuAVE survey\n",
    "\n",
    "This notebook uses Clarifai API (clarifai.com). To process your images, please generate your own API key at the web site."
   ]
  },
  {
   "cell_type": "markdown",
   "metadata": {},
   "source": [
    "## 1. Retrieve survey parameters from the URL"
   ]
  },
  {
   "cell_type": "code",
   "execution_count": 1,
   "metadata": {},
   "outputs": [
    {
     "data": {
      "application/javascript": [
       "function getQueryStringValue (key)\n",
       "{  \n",
       "    return unescape(window.location.search.replace(new RegExp(\"^(?:.*[&\\\\?]\" + escape(key).replace(/[\\.\\+\\*]/g, \"\\\\$&\") + \"(?:\\\\=([^&]*))?)?.*$\", \"i\"), \"$1\"));\n",
       "}\n",
       "IPython.notebook.kernel.execute(\"survey_url='\".concat(getQueryStringValue(\"surveyurl\")).concat(\"'\"));\n",
       "IPython.notebook.kernel.execute(\"views='\".concat(getQueryStringValue(\"views\")).concat(\"'\"));\n",
       "IPython.notebook.kernel.execute(\"view='\".concat(getQueryStringValue(\"view\")).concat(\"'\"));\n",
       "IPython.notebook.kernel.execute(\"user='\".concat(getQueryStringValue(\"user\")).concat(\"'\"));\n",
       "IPython.notebook.kernel.execute(\"csv_file='\".concat(getQueryStringValue(\"csv\")).concat(\"'\")); \n",
       "IPython.notebook.kernel.execute(\"dzc_file='\".concat(getQueryStringValue(\"dzc\")).concat(\"'\")); \n",
       "IPython.notebook.kernel.execute(\"params='\".concat(getQueryStringValue(\"params\")).concat(\"'\")); \n",
       "IPython.notebook.kernel.execute(\"active_object='\".concat(getQueryStringValue(\"activeobject\")).concat(\"'\")); \n",
       "IPython.notebook.kernel.execute(\"full_notebook_url='\" + window.location + \"'\"); "
      ],
      "text/plain": [
       "<IPython.core.display.Javascript object>"
      ]
     },
     "metadata": {},
     "output_type": "display_data"
    }
   ],
   "source": [
    "%%javascript\n",
    "function getQueryStringValue (key)\n",
    "{  \n",
    "    return unescape(window.location.search.replace(new RegExp(\"^(?:.*[&\\\\?]\" + escape(key).replace(/[\\.\\+\\*]/g, \"\\\\$&\") + \"(?:\\\\=([^&]*))?)?.*$\", \"i\"), \"$1\"));\n",
    "}\n",
    "IPython.notebook.kernel.execute(\"survey_url='\".concat(getQueryStringValue(\"surveyurl\")).concat(\"'\"));\n",
    "IPython.notebook.kernel.execute(\"views='\".concat(getQueryStringValue(\"views\")).concat(\"'\"));\n",
    "IPython.notebook.kernel.execute(\"view='\".concat(getQueryStringValue(\"view\")).concat(\"'\"));\n",
    "IPython.notebook.kernel.execute(\"user='\".concat(getQueryStringValue(\"user\")).concat(\"'\"));\n",
    "IPython.notebook.kernel.execute(\"csv_file='\".concat(getQueryStringValue(\"csv\")).concat(\"'\")); \n",
    "IPython.notebook.kernel.execute(\"dzc_file='\".concat(getQueryStringValue(\"dzc\")).concat(\"'\")); \n",
    "IPython.notebook.kernel.execute(\"params='\".concat(getQueryStringValue(\"params\")).concat(\"'\")); \n",
    "IPython.notebook.kernel.execute(\"active_object='\".concat(getQueryStringValue(\"activeobject\")).concat(\"'\")); \n",
    "IPython.notebook.kernel.execute(\"full_notebook_url='\" + window.location + \"'\"); "
   ]
  },
  {
   "cell_type": "markdown",
   "metadata": {},
   "source": [
    "## 2. Read the survey file and find images"
   ]
  },
  {
   "cell_type": "code",
   "execution_count": 2,
   "metadata": {},
   "outputs": [],
   "source": [
    "from __future__ import print_function\n",
    "from clarifai.rest import ClarifaiApp\n",
    "import pandas as pd\n",
    "import sys\n",
    "import csv\n",
    "import glob, os\n",
    "from ipywidgets import interact, interactive, fixed, interact_manual\n",
    "import ipywidgets as widgets\n",
    "from IPython.display import Markdown, display\n",
    "def printmd(string):\n",
    "    display(Markdown(string))\n",
    "\n",
    "absolutePath = \"../../temp_csvs/\"\n",
    "\n",
    "# read the SuAVE survey file\n",
    "file = open(absolutePath + csv_file, encoding=\"latin-1\")\n",
    "df = pd.read_csv(file)\n",
    "dflen = len(df.columns)\n",
    "\n",
    "localdzc = dzc_file.replace(\"https://maxim.ucsd.edu/dzgen/lib-staging-uploads\",\"/lib-nfs/dzgen\")\n",
    "full_images_location = localdzc.replace(\"/content.dzc\",\"/full_images/\")"
   ]
  },
  {
   "cell_type": "markdown",
   "metadata": {},
   "source": [
    "<b><h3><span style=\"color:red\">Important: Specify your Clarifai API Key below.<br>You can get it at clarifai.com</span></h3></b>\n"
   ]
  },
  {
   "cell_type": "code",
   "execution_count": 3,
   "metadata": {},
   "outputs": [
    {
     "data": {
      "text/markdown": [
       "<b><span style='color:red'>Your CLARIFAI API Key is: </span></b>b6097b44bdb542109c59c4522d2f6c60"
      ],
      "text/plain": [
       "<IPython.core.display.Markdown object>"
      ]
     },
     "metadata": {},
     "output_type": "display_data"
    }
   ],
   "source": [
    "# api_key = \"38328d08a7ed42c4a55581f21c7e988c\" # sample\n",
    "\n",
    "if api_key == '':\n",
    "    print('Cannot proceed without an API Key')\n",
    "else:\n",
    "    os.environ[\"CLARIFAI_API_KEY\"] = api_key\n",
    "    printmd(\"<b><span style='color:red'>Your CLARIFAI API Key is: </span></b>\" +os.environ[\"CLARIFAI_API_KEY\"])\n",
    "\n",
    "    app = ClarifaiApp()\n",
    "    model = app.public_models.general_model\n"
   ]
  },
  {
   "cell_type": "markdown",
   "metadata": {},
   "source": [
    "## 3. Extract the images"
   ]
  },
  {
   "cell_type": "code",
   "execution_count": 12,
   "metadata": {},
   "outputs": [
    {
     "data": {
      "text/markdown": [
       "<b><span style='color:red'>Count of items to process: </span></b>255"
      ],
      "text/plain": [
       "<IPython.core.display.Markdown object>"
      ]
     },
     "metadata": {},
     "output_type": "display_data"
    }
   ],
   "source": [
    "# One can point to a local directory with images or to a list of images at a URL\n",
    "\n",
    "URL_or_local = 'local'\n",
    "#URL_or_local = 'url'\n",
    "\n",
    "set_of_files = glob.glob(full_images_location+\"*.png\")\n",
    "\n",
    "printmd(\"<b><span style='color:red'>Count of items to process: </span></b>\" + str(len(set_of_files)))\n"
   ]
  },
  {
   "cell_type": "markdown",
   "metadata": {},
   "source": [
    "## 4. Run the classifier"
   ]
  },
  {
   "cell_type": "code",
   "execution_count": 13,
   "metadata": {},
   "outputs": [
    {
     "name": "stdout",
     "output_type": "stream",
     "text": [
      "1  ::  Processed file:  picasso138.png\n",
      "2  ::  Processed file:  picasso133.png\n",
      "3  ::  Processed file:  picasso42.png\n",
      "4  ::  Processed file:  picasso12.png\n",
      "5  ::  Processed file:  picasso53.png\n",
      "6  ::  Processed file:  picasso1.png\n",
      "7  ::  Processed file:  picasso97.png\n",
      "8  ::  Processed file:  picasso159.png\n",
      "9  ::  Processed file:  picasso24.png\n",
      "10  ::  Processed file:  picasso151.png\n",
      "11  ::  Processed file:  picasso129.png\n",
      "12  ::  Processed file:  picasso83.png\n",
      "13  ::  Processed file:  picasso108.png\n",
      "14  ::  Processed file:  picasso198.png\n",
      "15  ::  Processed file:  picasso243.png\n",
      "16  ::  Processed file:  picasso217.png\n",
      "17  ::  Processed file:  picasso228.png\n",
      "18  ::  Processed file:  picasso79.png\n",
      "19  ::  Processed file:  picasso263.png\n",
      "20  ::  Processed file:  picasso262.png\n",
      "21  ::  Processed file:  picasso278.png\n",
      "22  ::  Processed file:  picasso164.png\n",
      "23  ::  Processed file:  picasso35.png\n",
      "24  ::  Processed file:  picasso271.png\n",
      "25  ::  Processed file:  picasso240.png\n",
      "26  ::  Processed file:  picasso252.png\n",
      "27  ::  Processed file:  picasso268.png\n",
      "28  ::  Processed file:  picasso110.png\n",
      "29  ::  Processed file:  picasso85.png\n",
      "30  ::  Processed file:  picasso27.png\n",
      "31  ::  Processed file:  picasso44.png\n",
      "32  ::  Processed file:  picasso4.png\n",
      "33  ::  Processed file:  picasso84.png\n",
      "34  ::  Processed file:  picasso98.png\n",
      "35  ::  Processed file:  picasso216.png\n",
      "36  ::  Processed file:  picasso109.png\n",
      "37  ::  Processed file:  picasso269.png\n",
      "38  ::  Processed file:  picasso290.png\n",
      "39  ::  Processed file:  picasso81.png\n",
      "40  ::  Processed file:  picasso179.png\n",
      "41  ::  Processed file:  picasso203.png\n",
      "42  ::  Processed file:  picasso45.png\n",
      "43  ::  Processed file:  picasso16.png\n",
      "44  ::  Processed file:  picasso22.png\n",
      "45  ::  Processed file:  picasso6.png\n",
      "46  ::  Processed file:  picasso184.png\n",
      "47  ::  Processed file:  picasso177.png\n",
      "48  ::  Processed file:  picasso196.png\n",
      "49  ::  Processed file:  picasso130.png\n",
      "50  ::  Processed file:  picasso277.png\n",
      "51  ::  Processed file:  picasso5.png\n",
      "52  ::  Processed file:  picasso291.png\n",
      "53  ::  Processed file:  picasso7.png\n",
      "54  ::  Processed file:  picasso28.png\n",
      "55  ::  Processed file:  picasso77.png\n",
      "56  ::  Processed file:  picasso148.png\n",
      "57  ::  Processed file:  picasso194.png\n",
      "58  ::  Processed file:  picasso34.png\n",
      "59  ::  Processed file:  picasso238.png\n",
      "60  ::  Processed file:  picasso165.png\n",
      "61  ::  Processed file:  picasso245.png\n",
      "62  ::  Processed file:  picasso208.png\n",
      "63  ::  Processed file:  picasso112.png\n",
      "64  ::  Processed file:  picasso126.png\n",
      "65  ::  Processed file:  picasso70.png\n",
      "66  ::  Processed file:  image_not_available.png\n",
      "67  ::  Processed file:  picasso40.png\n",
      "68  ::  Processed file:  picasso99.png\n",
      "69  ::  Processed file:  picasso87.png\n",
      "70  ::  Processed file:  picasso72.png\n",
      "71  ::  Processed file:  picasso56.png\n",
      "72  ::  Processed file:  picasso175.png\n",
      "73  ::  Processed file:  picasso94.png\n",
      "74  ::  Processed file:  picasso223.png\n",
      "75  ::  Processed file:  picasso284.png\n",
      "76  ::  Processed file:  picasso261.png\n",
      "77  ::  Processed file:  picasso288.png\n",
      "78  ::  Processed file:  picasso161.png\n",
      "79  ::  Processed file:  picasso141.png\n",
      "80  ::  Processed file:  picasso32.png\n",
      "81  ::  Processed file:  picasso199.png\n",
      "82  ::  Processed file:  picasso172.png\n",
      "83  ::  Processed file:  picasso14.png\n",
      "84  ::  Processed file:  picasso149.png\n",
      "85  ::  Processed file:  picasso38.png\n",
      "86  ::  Processed file:  picasso211.png\n",
      "87  ::  Processed file:  picasso55.png\n",
      "88  ::  Processed file:  picasso23.png\n",
      "89  ::  Processed file:  picasso71.png\n",
      "90  ::  Processed file:  picasso258.png\n",
      "91  ::  Processed file:  picasso76.png\n",
      "92  ::  Processed file:  picasso137.png\n",
      "93  ::  Processed file:  picasso158.png\n",
      "94  ::  Processed file:  picasso73.png\n",
      "95  ::  Processed file:  picasso183.png\n",
      "96  ::  Processed file:  picasso244.png\n",
      "97  ::  Processed file:  picasso180.png\n",
      "98  ::  Processed file:  picasso264.png\n",
      "99  ::  Processed file:  picasso86.png\n",
      "100  ::  Processed file:  picasso80.png\n",
      "101  ::  Processed file:  picasso47.png\n",
      "102  ::  Processed file:  picasso200.png\n",
      "103  ::  Processed file:  picasso117.png\n",
      "104  ::  Processed file:  picasso234.png\n",
      "105  ::  Processed file:  picasso231.png\n",
      "106  ::  Processed file:  picasso212.png\n",
      "107  ::  Processed file:  picasso219.png\n",
      "108  ::  Processed file:  picasso170.png\n",
      "109  ::  Processed file:  picasso287.png\n",
      "110  ::  Processed file:  picasso225.png\n",
      "111  ::  Processed file:  picasso95.png\n",
      "112  ::  Processed file:  picasso152.png\n",
      "113  ::  Processed file:  picasso143.png\n",
      "114  ::  Processed file:  picasso64.png\n",
      "115  ::  Processed file:  picasso250.png\n",
      "116  ::  Processed file:  picasso78.png\n",
      "117  ::  Processed file:  picasso43.png\n",
      "118  ::  Processed file:  picasso162.png\n",
      "119  ::  Processed file:  picasso10.png\n",
      "120  ::  Processed file:  picasso144.png\n",
      "121  ::  Processed file:  picasso235.png\n",
      "122  ::  Processed file:  picasso232.png\n",
      "123  ::  Processed file:  picasso142.png\n",
      "124  ::  Processed file:  picasso270.png\n",
      "125  ::  Processed file:  picasso241.png\n",
      "126  ::  Processed file:  picasso75.png\n",
      "127  ::  Processed file:  picasso13.png\n",
      "128  ::  Processed file:  picasso197.png\n",
      "129  ::  Processed file:  picasso299.png\n",
      "130  ::  Processed file:  picasso131.png\n",
      "131  ::  Processed file:  picasso11.png\n",
      "132  ::  Processed file:  picasso157.png\n",
      "133  ::  Processed file:  picasso145.png\n",
      "134  ::  Processed file:  picasso48.png\n",
      "135  ::  Processed file:  picasso92.png\n",
      "136  ::  Processed file:  picasso49.png\n",
      "137  ::  Processed file:  picasso257.png\n",
      "138  ::  Processed file:  picasso295.png\n",
      "139  ::  Processed file:  picasso154.png\n",
      "140  ::  Processed file:  picasso100.png\n",
      "141  ::  Processed file:  picasso239.png\n",
      "142  ::  Processed file:  picasso19.png\n",
      "143  ::  Processed file:  picasso113.png\n",
      "144  ::  Processed file:  picasso210.png\n",
      "145  ::  Processed file:  picasso65.png\n",
      "146  ::  Processed file:  picasso189.png\n",
      "147  ::  Processed file:  picasso222.png\n",
      "148  ::  Processed file:  picasso251.png\n",
      "149  ::  Processed file:  picasso114.png\n",
      "150  ::  Processed file:  picasso111.png\n",
      "151  ::  Processed file:  picasso190.png\n",
      "152  ::  Processed file:  picasso272.png\n",
      "153  ::  Processed file:  picasso247.png\n",
      "154  ::  Processed file:  picasso209.png\n",
      "155  ::  Processed file:  picasso192.png\n",
      "156  ::  Processed file:  picasso31.png\n",
      "157  ::  Processed file:  picasso242.png\n",
      "158  ::  Processed file:  picasso140.png\n",
      "159  ::  Processed file:  picasso51.png\n",
      "160  ::  Processed file:  picasso58.png\n",
      "161  ::  Processed file:  picasso168.png\n",
      "162  ::  Processed file:  picasso37.png\n",
      "163  ::  Processed file:  picasso2.png\n",
      "164  ::  Processed file:  picasso249.png\n",
      "165  ::  Processed file:  picasso254.png\n",
      "166  ::  Processed file:  picasso124.png\n",
      "167  ::  Processed file:  picasso136.png\n",
      "168  ::  Processed file:  picasso156.png\n",
      "169  ::  Processed file:  picasso139.png\n",
      "170  ::  Processed file:  picasso115.png\n",
      "171  ::  Processed file:  picasso201.png\n",
      "172  ::  Processed file:  picasso171.png\n",
      "173  ::  Processed file:  picasso181.png\n",
      "174  ::  Processed file:  picasso294.png\n",
      "175  ::  Processed file:  picasso248.png\n",
      "176  ::  Processed file:  picasso285.png\n",
      "177  ::  Processed file:  picasso293.png\n",
      "178  ::  Processed file:  picasso185.png\n",
      "179  ::  Processed file:  picasso236.png\n",
      "180  ::  Processed file:  picasso224.png\n",
      "181  ::  Processed file:  picasso265.png\n",
      "182  ::  Processed file:  picasso237.png\n",
      "183  ::  Processed file:  picasso9.png\n",
      "184  ::  Processed file:  picasso36.png\n",
      "185  ::  Processed file:  picasso105.png\n",
      "186  ::  Processed file:  picasso155.png\n",
      "187  ::  Processed file:  picasso182.png\n",
      "188  ::  Processed file:  picasso186.png\n",
      "189  ::  Processed file:  picasso91.png\n",
      "190  ::  Processed file:  picasso116.png\n",
      "191  ::  Processed file:  picasso289.png\n",
      "192  ::  Processed file:  picasso207.png\n",
      "193  ::  Processed file:  picasso205.png\n",
      "194  ::  Processed file:  picasso25.png\n",
      "195  ::  Processed file:  picasso230.png\n",
      "196  ::  Processed file:  picasso146.png\n",
      "197  ::  Processed file:  picasso275.png\n",
      "198  ::  Processed file:  picasso226.png\n",
      "199  ::  Processed file:  picasso296.png\n",
      "200  ::  Processed file:  picasso253.png\n",
      "201  ::  Processed file:  picasso106.png\n",
      "202  ::  Processed file:  picasso62.png\n",
      "203  ::  Processed file:  picasso41.png\n",
      "204  ::  Processed file:  picasso276.png\n",
      "205  ::  Processed file:  picasso101.png\n"
     ]
    },
    {
     "name": "stdout",
     "output_type": "stream",
     "text": [
      "206  ::  Processed file:  picasso74.png\n",
      "207  ::  Processed file:  picasso266.png\n",
      "208  ::  Processed file:  picasso46.png\n",
      "209  ::  Processed file:  picasso279.png\n",
      "210  ::  Processed file:  picasso218.png\n",
      "211  ::  Processed file:  picasso246.png\n",
      "212  ::  Processed file:  picasso227.png\n",
      "213  ::  Processed file:  picasso96.png\n",
      "214  ::  Processed file:  picasso255.png\n",
      "215  ::  Processed file:  picasso135.png\n",
      "216  ::  Processed file:  picasso120.png\n",
      "217  ::  Processed file:  picasso8.png\n",
      "218  ::  Processed file:  picasso213.png\n",
      "219  ::  Processed file:  picasso220.png\n",
      "220  ::  Processed file:  picasso132.png\n",
      "221  ::  Processed file:  picasso206.png\n",
      "222  ::  Processed file:  picasso134.png\n",
      "223  ::  Processed file:  picasso39.png\n",
      "224  ::  Processed file:  picasso221.png\n",
      "225  ::  Processed file:  picasso54.png\n",
      "226  ::  Processed file:  picasso17.png\n",
      "227  ::  Processed file:  picasso267.png\n",
      "228  ::  Processed file:  picasso121.png\n",
      "229  ::  Processed file:  picasso169.png\n",
      "230  ::  Processed file:  picasso195.png\n",
      "231  ::  Processed file:  picasso30.png\n",
      "232  ::  Processed file:  picasso122.png\n",
      "233  ::  Processed file:  picasso167.png\n",
      "234  ::  Processed file:  picasso57.png\n",
      "235  ::  Processed file:  picasso107.png\n",
      "236  ::  Processed file:  picasso147.png\n",
      "237  ::  Processed file:  picasso21.png\n",
      "238  ::  Processed file:  picasso286.png\n",
      "239  ::  Processed file:  picasso174.png\n",
      "240  ::  Processed file:  picasso127.png\n",
      "241  ::  Processed file:  picasso123.png\n",
      "242  ::  Processed file:  picasso229.png\n",
      "243  ::  Processed file:  picasso50.png\n",
      "244  ::  Processed file:  picasso33.png\n",
      "245  ::  Processed file:  picasso3.png\n",
      "246  ::  Processed file:  picasso63.png\n",
      "247  ::  Processed file:  picasso176.png\n",
      "248  ::  Processed file:  picasso188.png\n",
      "249  ::  Processed file:  picasso150.png\n",
      "250  ::  Processed file:  picasso202.png\n",
      "251  ::  Processed file:  picasso153.png\n",
      "252  ::  Processed file:  picasso204.png\n",
      "253  ::  Processed file:  picasso233.png\n",
      "254  ::  Processed file:  picasso128.png\n",
      "255  ::  Processed file:  picasso273.png\n"
     ]
    },
    {
     "data": {
      "text/markdown": [
       "<b><span style='color:red'>255 images processed</span></b>"
      ],
      "text/plain": [
       "<IPython.core.display.Markdown object>"
      ]
     },
     "metadata": {},
     "output_type": "display_data"
    }
   ],
   "source": [
    "all_data = []   # here, we accummulate the generated concepts for each image\n",
    "counter = 0\n",
    "\n",
    "for image in set_of_files:\n",
    "    counter += 1\n",
    "    if URL_or_local == 'url':\n",
    "        response = model.predict_by_url(url=image)\n",
    "    else:\n",
    "        response = model.predict_by_filename(filename=image)        \n",
    "    file_data = {}\n",
    "    file_data['#img'] = os.path.basename(image)[:-4]\n",
    "    concepts = response['outputs'][0]['data']['concepts']\n",
    "    for i in range(len(concepts)):  \n",
    "        file_data['concept_'+str(i+1)] = concepts[i]['name']\n",
    "        file_data['value_'+str(i+1)] = concepts[i]['value']\n",
    "    all_data.append(file_data)\n",
    "    print(str(counter),\" ::  Processed file: \", os.path.basename(image))\n",
    "# debugging:\n",
    "#     if counter == 3:\n",
    "#         break\n",
    "printmd(\"<b><span style='color:red'>\" + str(counter) + \" images processed</span></b>\")\n"
   ]
  },
  {
   "cell_type": "markdown",
   "metadata": {},
   "source": [
    "## 5. Add concepts to dataframe"
   ]
  },
  {
   "cell_type": "code",
   "execution_count": 14,
   "metadata": {},
   "outputs": [
    {
     "data": {
      "text/markdown": [
       "<b><span style='color:red'>Created new dataframe </span></b>"
      ],
      "text/plain": [
       "<IPython.core.display.Markdown object>"
      ]
     },
     "metadata": {},
     "output_type": "display_data"
    },
    {
     "data": {
      "text/html": [
       "<div>\n",
       "<style scoped>\n",
       "    .dataframe tbody tr th:only-of-type {\n",
       "        vertical-align: middle;\n",
       "    }\n",
       "\n",
       "    .dataframe tbody tr th {\n",
       "        vertical-align: top;\n",
       "    }\n",
       "\n",
       "    .dataframe thead th {\n",
       "        text-align: right;\n",
       "    }\n",
       "</style>\n",
       "<table border=\"1\" class=\"dataframe\">\n",
       "  <thead>\n",
       "    <tr style=\"text-align: right;\">\n",
       "      <th></th>\n",
       "      <th>#img</th>\n",
       "      <th>#name</th>\n",
       "      <th>#href</th>\n",
       "      <th>Title</th>\n",
       "      <th>Description#info</th>\n",
       "      <th>Years</th>\n",
       "      <th>Medium</th>\n",
       "      <th>Museum</th>\n",
       "      <th>City</th>\n",
       "      <th>Country</th>\n",
       "      <th>...</th>\n",
       "      <th>value_16_y</th>\n",
       "      <th>concept_17_y</th>\n",
       "      <th>value_17_y</th>\n",
       "      <th>concept_18_y</th>\n",
       "      <th>value_18_y</th>\n",
       "      <th>concept_19_y</th>\n",
       "      <th>value_19_y</th>\n",
       "      <th>concept_20_y</th>\n",
       "      <th>value_20_y</th>\n",
       "      <th>tags#multi_y</th>\n",
       "    </tr>\n",
       "  </thead>\n",
       "  <tbody>\n",
       "    <tr>\n",
       "      <th>0</th>\n",
       "      <td>picasso1</td>\n",
       "      <td>Pablo Picasso. Portrait of the Artist's Mother.</td>\n",
       "      <td>http://www.abcgallery.com/P/picasso/picasso1.html</td>\n",
       "      <td>Portrait of the Artist's Mother</td>\n",
       "      <td>Pablo Picasso. Portrait of the Artist's Mother...</td>\n",
       "      <td>1896</td>\n",
       "      <td>Pastel on paper</td>\n",
       "      <td>Museo Picasso</td>\n",
       "      <td>Barcelona</td>\n",
       "      <td>Spain</td>\n",
       "      <td>...</td>\n",
       "      <td>0.797321</td>\n",
       "      <td>light</td>\n",
       "      <td>0.790028</td>\n",
       "      <td>facial expression</td>\n",
       "      <td>0.777905</td>\n",
       "      <td>retro</td>\n",
       "      <td>0.768046</td>\n",
       "      <td>print</td>\n",
       "      <td>0.763420</td>\n",
       "      <td>people|portrait|one|painting|adult|wear|profil...</td>\n",
       "    </tr>\n",
       "    <tr>\n",
       "      <th>1</th>\n",
       "      <td>picasso2</td>\n",
       "      <td>Pablo Picasso. Self-Portrait.</td>\n",
       "      <td>http://www.abcgallery.com/P/picasso/picasso2.html</td>\n",
       "      <td>Self-Portrait</td>\n",
       "      <td>Pablo Picasso. Self-Portrait. 1896. Oil on can...</td>\n",
       "      <td>1896</td>\n",
       "      <td>Oil on canvas</td>\n",
       "      <td>Museo Picasso</td>\n",
       "      <td>Barcelona</td>\n",
       "      <td>Spain</td>\n",
       "      <td>...</td>\n",
       "      <td>0.839063</td>\n",
       "      <td>writer</td>\n",
       "      <td>0.838516</td>\n",
       "      <td>face</td>\n",
       "      <td>0.820426</td>\n",
       "      <td>woman</td>\n",
       "      <td>0.817395</td>\n",
       "      <td>retro</td>\n",
       "      <td>0.810808</td>\n",
       "      <td>one|portrait|people|painting|adult|man|art|wea...</td>\n",
       "    </tr>\n",
       "    <tr>\n",
       "      <th>2</th>\n",
       "      <td>picasso3</td>\n",
       "      <td>Pablo Picasso. Science and Charity.</td>\n",
       "      <td>http://www.abcgallery.com/P/picasso/picasso3.html</td>\n",
       "      <td>Science and Charity</td>\n",
       "      <td>Pablo Picasso. Science and Charity. 1897. Oil ...</td>\n",
       "      <td>1897</td>\n",
       "      <td>Oil on canvas</td>\n",
       "      <td>Museo Picasso</td>\n",
       "      <td>Barcelona</td>\n",
       "      <td>Spain</td>\n",
       "      <td>...</td>\n",
       "      <td>0.895718</td>\n",
       "      <td>adult</td>\n",
       "      <td>0.892592</td>\n",
       "      <td>print</td>\n",
       "      <td>0.879543</td>\n",
       "      <td>church</td>\n",
       "      <td>0.878671</td>\n",
       "      <td>cross</td>\n",
       "      <td>0.867016</td>\n",
       "      <td>art|painting|woman|people|saint|religion|two|b...</td>\n",
       "    </tr>\n",
       "    <tr>\n",
       "      <th>3</th>\n",
       "      <td>picasso4</td>\n",
       "      <td>Pablo Picasso. A Spanish Couple in front of an...</td>\n",
       "      <td>http://www.abcgallery.com/P/picasso/picasso4.html</td>\n",
       "      <td>A Spanish Couple in front of an Inn</td>\n",
       "      <td>Pablo Picasso. A Spanish Couple in front of an...</td>\n",
       "      <td>1900</td>\n",
       "      <td>Pastel on cardboard</td>\n",
       "      <td>Private collection</td>\n",
       "      <td>NaN</td>\n",
       "      <td>NaN</td>\n",
       "      <td>...</td>\n",
       "      <td>0.855324</td>\n",
       "      <td>son</td>\n",
       "      <td>0.835830</td>\n",
       "      <td>cape</td>\n",
       "      <td>0.816991</td>\n",
       "      <td>costume</td>\n",
       "      <td>0.802225</td>\n",
       "      <td>family</td>\n",
       "      <td>0.786346</td>\n",
       "      <td>people|illustration|painting|art|man|woman|rel...</td>\n",
       "    </tr>\n",
       "    <tr>\n",
       "      <th>4</th>\n",
       "      <td>picasso5</td>\n",
       "      <td>Pablo Picasso. Leaning Harlequin.</td>\n",
       "      <td>http://www.abcgallery.com/P/picasso/picasso5.html</td>\n",
       "      <td>Leaning Harlequin</td>\n",
       "      <td>Pablo Picasso. Leaning Harlequin. 1901. Oil on...</td>\n",
       "      <td>1901</td>\n",
       "      <td>Oil on canvas</td>\n",
       "      <td>The Metropolitan Museum of Art</td>\n",
       "      <td>New York, NY</td>\n",
       "      <td>USA</td>\n",
       "      <td>...</td>\n",
       "      <td>0.906655</td>\n",
       "      <td>graffiti</td>\n",
       "      <td>0.904187</td>\n",
       "      <td>woman</td>\n",
       "      <td>0.902120</td>\n",
       "      <td>lithograph</td>\n",
       "      <td>0.901200</td>\n",
       "      <td>color</td>\n",
       "      <td>0.899971</td>\n",
       "      <td>painting|art|illustration|print|one|artistic|p...</td>\n",
       "    </tr>\n",
       "  </tbody>\n",
       "</table>\n",
       "<p>5 rows × 94 columns</p>\n",
       "</div>"
      ],
      "text/plain": [
       "       #img                                              #name  \\\n",
       "0  picasso1    Pablo Picasso. Portrait of the Artist's Mother.   \n",
       "1  picasso2                      Pablo Picasso. Self-Portrait.   \n",
       "2  picasso3                Pablo Picasso. Science and Charity.   \n",
       "3  picasso4  Pablo Picasso. A Spanish Couple in front of an...   \n",
       "4  picasso5                  Pablo Picasso. Leaning Harlequin.   \n",
       "\n",
       "                                               #href  \\\n",
       "0  http://www.abcgallery.com/P/picasso/picasso1.html   \n",
       "1  http://www.abcgallery.com/P/picasso/picasso2.html   \n",
       "2  http://www.abcgallery.com/P/picasso/picasso3.html   \n",
       "3  http://www.abcgallery.com/P/picasso/picasso4.html   \n",
       "4  http://www.abcgallery.com/P/picasso/picasso5.html   \n",
       "\n",
       "                                 Title  \\\n",
       "0      Portrait of the Artist's Mother   \n",
       "1                        Self-Portrait   \n",
       "2                  Science and Charity   \n",
       "3  A Spanish Couple in front of an Inn   \n",
       "4                    Leaning Harlequin   \n",
       "\n",
       "                                    Description#info Years  \\\n",
       "0  Pablo Picasso. Portrait of the Artist's Mother...  1896   \n",
       "1  Pablo Picasso. Self-Portrait. 1896. Oil on can...  1896   \n",
       "2  Pablo Picasso. Science and Charity. 1897. Oil ...  1897   \n",
       "3  Pablo Picasso. A Spanish Couple in front of an...  1900   \n",
       "4  Pablo Picasso. Leaning Harlequin. 1901. Oil on...  1901   \n",
       "\n",
       "                Medium                          Museum          City Country  \\\n",
       "0      Pastel on paper                   Museo Picasso     Barcelona   Spain   \n",
       "1        Oil on canvas                   Museo Picasso     Barcelona   Spain   \n",
       "2        Oil on canvas                   Museo Picasso     Barcelona   Spain   \n",
       "3  Pastel on cardboard              Private collection           NaN     NaN   \n",
       "4        Oil on canvas  The Metropolitan Museum of Art  New York, NY     USA   \n",
       "\n",
       "                         ...                          value_16_y  \\\n",
       "0                        ...                            0.797321   \n",
       "1                        ...                            0.839063   \n",
       "2                        ...                            0.895718   \n",
       "3                        ...                            0.855324   \n",
       "4                        ...                            0.906655   \n",
       "\n",
       "   concept_17_y value_17_y       concept_18_y value_18_y  concept_19_y  \\\n",
       "0         light   0.790028  facial expression   0.777905         retro   \n",
       "1        writer   0.838516               face   0.820426         woman   \n",
       "2         adult   0.892592              print   0.879543        church   \n",
       "3           son   0.835830               cape   0.816991       costume   \n",
       "4      graffiti   0.904187              woman   0.902120    lithograph   \n",
       "\n",
       "  value_19_y  concept_20_y value_20_y  \\\n",
       "0   0.768046         print   0.763420   \n",
       "1   0.817395         retro   0.810808   \n",
       "2   0.878671         cross   0.867016   \n",
       "3   0.802225        family   0.786346   \n",
       "4   0.901200         color   0.899971   \n",
       "\n",
       "                                        tags#multi_y  \n",
       "0  people|portrait|one|painting|adult|wear|profil...  \n",
       "1  one|portrait|people|painting|adult|man|art|wea...  \n",
       "2  art|painting|woman|people|saint|religion|two|b...  \n",
       "3  people|illustration|painting|art|man|woman|rel...  \n",
       "4  painting|art|illustration|print|one|artistic|p...  \n",
       "\n",
       "[5 rows x 94 columns]"
      ]
     },
     "execution_count": 14,
     "metadata": {},
     "output_type": "execute_result"
    }
   ],
   "source": [
    "# adding individual concept fields, as well as a single multiple-response column with all concepts, to a dataframe\n",
    "newdf = pd.DataFrame(all_data).fillna('')\n",
    "newdf = newdf[['#img', \n",
    "         'concept_1', 'value_1',\n",
    "         'concept_2', 'value_2',\n",
    "         'concept_3', 'value_3',\n",
    "         'concept_4', 'value_4',\n",
    "         'concept_5', 'value_5',\n",
    "         'concept_6', 'value_6',\n",
    "         'concept_7', 'value_7',\n",
    "         'concept_8', 'value_8',\n",
    "         'concept_9', 'value_9',\n",
    "         'concept_10', 'value_10',\n",
    "         'concept_11', 'value_11',\n",
    "         'concept_12', 'value_12',\n",
    "         'concept_13', 'value_13',\n",
    "         'concept_14', 'value_14',\n",
    "         'concept_15', 'value_15',\n",
    "         'concept_16', 'value_16',\n",
    "         'concept_17', 'value_17',\n",
    "         'concept_18', 'value_18',\n",
    "         'concept_19', 'value_19',\n",
    "         'concept_20', 'value_20']]\n",
    "multi =''\n",
    "for i in range(20):\n",
    "    if i == 19:\n",
    "        multi += newdf['concept_'+str(i+1)]\n",
    "    else:\n",
    "        multi += newdf['concept_'+str(i+1)] +'|'\n",
    "\n",
    "newdf['tags#multi'] = multi\n",
    "df = pd.merge(df, newdf, on='#img', how='outer')\n",
    "printmd(\"<b><span style='color:red'>Created new dataframe </span></b>\")\n",
    "df.head()"
   ]
  },
  {
   "cell_type": "markdown",
   "metadata": {},
   "source": [
    "## 6. Save the new version of CSV file, and give a name to new survey"
   ]
  },
  {
   "cell_type": "code",
   "execution_count": 15,
   "metadata": {},
   "outputs": [
    {
     "data": {
      "text/markdown": [
       "<b><span style='color:red'>A new temporary file will be created at: </span></b>"
      ],
      "text/plain": [
       "<IPython.core.display.Markdown object>"
      ]
     },
     "metadata": {},
     "output_type": "display_data"
    },
    {
     "name": "stdout",
     "output_type": "stream",
     "text": [
      "../../temp_csvs/public_Picasso_Paintings_v1.csv\n"
     ]
    }
   ],
   "source": [
    "new_file = absolutePath + csv_file[:-4]+'_v1.csv'\n",
    "printmd(\"<b><span style='color:red'>A new temporary file will be created at: </span></b>\")\n",
    "print(new_file)\n",
    "df.to_csv(new_file, index=None)"
   ]
  },
  {
   "cell_type": "code",
   "execution_count": 16,
   "metadata": {},
   "outputs": [
    {
     "data": {
      "text/markdown": [
       "<b><span style='color:red'>Input survey name here, press Enter, and then run the next cell:</span></b>"
      ],
      "text/plain": [
       "<IPython.core.display.Markdown object>"
      ]
     },
     "metadata": {},
     "output_type": "display_data"
    },
    {
     "data": {
      "application/vnd.jupyter.widget-view+json": {
       "model_id": "3042ffc847a44f7ca4cf185a3f5ac341",
       "version_major": 2,
       "version_minor": 0
      },
      "text/plain": [
       "Text(value='')"
      ]
     },
     "metadata": {},
     "output_type": "display_data"
    },
    {
     "data": {
      "application/vnd.jupyter.widget-view+json": {
       "model_id": "3af27812dcbc484ea2fb6004bbf83400",
       "version_major": 2,
       "version_minor": 0
      },
      "text/plain": [
       "Text(value='')"
      ]
     },
     "metadata": {},
     "output_type": "display_data"
    }
   ],
   "source": [
    "#Input survey name\n",
    "\n",
    "from IPython.display import display\n",
    "input_text = widgets.Text()\n",
    "output_text = widgets.Text()\n",
    "\n",
    "def bind_input_to_output(sender):\n",
    "    output_text.value = input_text.value\n",
    "\n",
    "# Tell the text input widget to call bind_input_to_output() on submit\n",
    "input_text.on_submit(bind_input_to_output)\n",
    "\n",
    "printmd(\"<b><span style='color:red'>Input survey name here, press Enter, and then run the next cell:</span></b>\")\n",
    "# Display input text box widget for input\n",
    "display(input_text)\n",
    "\n",
    "display(output_text)"
   ]
  },
  {
   "cell_type": "code",
   "execution_count": 17,
   "metadata": {},
   "outputs": [
    {
     "data": {
      "text/markdown": [
       "<b><span style='color:red'>Survey Name is: </span></b>picaconc2"
      ],
      "text/plain": [
       "<IPython.core.display.Markdown object>"
      ]
     },
     "metadata": {},
     "output_type": "display_data"
    }
   ],
   "source": [
    "#Print survey name\n",
    "survey_name = output_text.value\n",
    "printmd(\"<b><span style='color:red'>Survey Name is: </span></b>\" + survey_name)"
   ]
  },
  {
   "cell_type": "markdown",
   "metadata": {},
   "source": [
    "## 7. Generate the survey and create survey URL"
   ]
  },
  {
   "cell_type": "code",
   "execution_count": 18,
   "metadata": {},
   "outputs": [
    {
     "data": {
      "text/markdown": [
       "<b><span style='color:red'>New survey created successfully</span></b>"
      ],
      "text/plain": [
       "<IPython.core.display.Markdown object>"
      ]
     },
     "metadata": {},
     "output_type": "display_data"
    },
    {
     "name": "stdout",
     "output_type": "stream",
     "text": [
      "https://suave-dev.sdsc.edu/main/file=public_picaconc2.csv&views=1110101&view=grid\n"
     ]
    },
    {
     "data": {
      "text/markdown": [
       "<b><span style='color:red'>Click the URL to open the new survey</span></b>"
      ],
      "text/plain": [
       "<IPython.core.display.Markdown object>"
      ]
     },
     "metadata": {},
     "output_type": "display_data"
    }
   ],
   "source": [
    "#Parse url\n",
    "referer = survey_url.split(\"/main\")[0] +\"/\"\n",
    "upload_url = referer + \"uploadCSV\"\n",
    "new_survey_url_base = survey_url.split(user)[0]\n",
    "\n",
    "import requests\n",
    "import re\n",
    "csv = {\"file\": open(new_file, \"rb\")}\n",
    "upload_data = {\n",
    "    'name': input_text.value,\n",
    "    'dzc': dzc_file,\n",
    "    'user':user\n",
    "}\n",
    "headers = {\n",
    "    'User-Agent': 'suave user agent',\n",
    "    'referer': referer\n",
    "}\n",
    "\n",
    "r = requests.post(upload_url, files=csv, data=upload_data, headers=headers)\n",
    "\n",
    "if r.status_code == 200:\n",
    "    printmd(\"<b><span style='color:red'>New survey created successfully</span></b>\")\n",
    "    regex = re.compile('[^0-9a-zA-Z_]')\n",
    "    s_url = survey_name\n",
    "    s_url =  regex.sub('_', s_url)\n",
    "\n",
    "    url = new_survey_url_base + user + \"_\" + input_text.value + \".csv\" + \"&views=\" + views + \"&view=\" + view\n",
    "    print(url)\n",
    "    printmd(\"<b><span style='color:red'>Click the URL to open the new survey</span></b>\")\n",
    "else:\n",
    "    printmd(\"<b><span style='color:red'>Error creating new survey. Check if a survey with this name already exists.</span></b>\")\n",
    "    printmd(\"<b><span style='color:red'>Reason: </span></b>\"+ str(r.status_code) + \" \" + r.reason)\n",
    "\n",
    "\n",
    "    \n",
    "# new_survey_url_base = survey_url.split(user)[0]"
   ]
  },
  {
   "cell_type": "code",
   "execution_count": null,
   "metadata": {},
   "outputs": [],
   "source": []
  }
 ],
 "metadata": {
  "kernelspec": {
   "display_name": "Python 3",
   "language": "python",
   "name": "python3"
  },
  "language_info": {
   "codemirror_mode": {
    "name": "ipython",
    "version": 3
   },
   "file_extension": ".py",
   "mimetype": "text/x-python",
   "name": "python",
   "nbconvert_exporter": "python",
   "pygments_lexer": "ipython3",
   "version": "3.5.2"
  }
 },
 "nbformat": 4,
 "nbformat_minor": 2
}
