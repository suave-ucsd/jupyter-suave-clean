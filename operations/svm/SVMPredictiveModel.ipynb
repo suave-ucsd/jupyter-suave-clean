{
 "cells": [
  {
   "cell_type": "markdown",
   "metadata": {},
   "source": [
    "# SuAVE Image to Label SVM Prediction Model"
   ]
  },
  {
   "cell_type": "code",
   "execution_count": 132,
   "metadata": {},
   "outputs": [
    {
     "data": {
      "application/javascript": [
       "function getQueryStringValue (key)\n",
       "{  \n",
       "    return unescape(window.location.search.replace(new RegExp(\"^(?:.*[&\\\\?]\" + escape(key).replace(/[\\.\\+\\*]/g, \"\\\\$&\") + \"(?:\\\\=([^&]*))?)?.*$\", \"i\"), \"$1\"));\n",
       "}\n",
       "IPython.notebook.kernel.execute(\"survey_url='\".concat(getQueryStringValue(\"surveyurl\")).concat(\"'\"));\n",
       "IPython.notebook.kernel.execute(\"user='\".concat(getQueryStringValue(\"user\")).concat(\"'\"));\n",
       "IPython.notebook.kernel.execute(\"csv_file='\".concat(getQueryStringValue(\"csv\")).concat(\"'\")); \n",
       "IPython.notebook.kernel.execute(\"dzc_file='\".concat(getQueryStringValue(\"dzc\")).concat(\"'\")); \n",
       "IPython.notebook.kernel.execute(\"params='\".concat(getQueryStringValue(\"params\")).concat(\"'\")); \n",
       "IPython.notebook.kernel.execute(\"active_object='\".concat(getQueryStringValue(\"activeobject\")).concat(\"'\")); "
      ],
      "text/plain": [
       "<IPython.core.display.Javascript object>"
      ]
     },
     "metadata": {},
     "output_type": "display_data"
    }
   ],
   "source": [
    "%%javascript\n",
    "function getQueryStringValue (key)\n",
    "{  \n",
    "    return unescape(window.location.search.replace(new RegExp(\"^(?:.*[&\\\\?]\" + escape(key).replace(/[\\.\\+\\*]/g, \"\\\\$&\") + \"(?:\\\\=([^&]*))?)?.*$\", \"i\"), \"$1\"));\n",
    "}\n",
    "IPython.notebook.kernel.execute(\"survey_url='\".concat(getQueryStringValue(\"surveyurl\")).concat(\"'\"));\n",
    "IPython.notebook.kernel.execute(\"views='\".concat(getQueryStringValue(\"views\")).concat(\"'\"));\n",
    "IPython.notebook.kernel.execute(\"view='\".concat(getQueryStringValue(\"view\")).concat(\"'\"));\n",
    "IPython.notebook.kernel.execute(\"user='\".concat(getQueryStringValue(\"user\")).concat(\"'\"));\n",
    "IPython.notebook.kernel.execute(\"csv_file='\".concat(getQueryStringValue(\"csv\")).concat(\"'\")); \n",
    "IPython.notebook.kernel.execute(\"dzc_file='\".concat(getQueryStringValue(\"dzc\")).concat(\"'\")); \n",
    "IPython.notebook.kernel.execute(\"params='\".concat(getQueryStringValue(\"params\")).concat(\"'\")); \n",
    "IPython.notebook.kernel.execute(\"active_object='\".concat(getQueryStringValue(\"activeobject\")).concat(\"'\")); \n",
    "IPython.notebook.kernel.execute(\"full_notebook_url='\" + window.location + \"'\"); "
   ]
  },
  {
   "cell_type": "markdown",
   "metadata": {},
   "source": [
    "### Import all packages"
   ]
  },
  {
   "cell_type": "code",
   "execution_count": 133,
   "metadata": {},
   "outputs": [],
   "source": [
    "import warnings\n",
    "warnings.filterwarnings('ignore')  # \"error\", \"ignore\", \"always\", \"default\", \"module\" or \"once\"\n",
    "\n",
    "# More imports\n",
    "import matplotlib.pyplot as plt\n",
    "import numpy as np\n",
    "import argparse\n",
    "import random\n",
    "import csv\n",
    "import pandas as pd\n",
    "import re\n",
    "import cv2\n",
    "import os\n",
    "\n",
    "# import the necessary packages for SVM predictor\n",
    "from sklearn.preprocessing import LabelEncoder\n",
    "from sklearn.svm import LinearSVC\n",
    "from sklearn.metrics import classification_report\n",
    "from sklearn.model_selection import train_test_split\n",
    "import imutils\n",
    "from sklearn.externals import joblib\n",
    "\n",
    "# import histogram func\n",
    "from histogram import Histograms\n",
    "\n",
    "# Import widget functionality\n",
    "from __future__ import print_function\n",
    "from ipywidgets import interact, interactive, fixed, interact_manual\n",
    "import ipywidgets as widgets"
   ]
  },
  {
   "cell_type": "markdown",
   "metadata": {},
   "source": [
    "## Run and choose the column name that coresponds with the column label to be predicted"
   ]
  },
  {
   "cell_type": "code",
   "execution_count": 134,
   "metadata": {
    "scrolled": true
   },
   "outputs": [
    {
     "data": {
      "application/vnd.jupyter.widget-view+json": {
       "model_id": "6b745698f8a3425f8e9722fd9abf911e",
       "version_major": 2,
       "version_minor": 0
      },
      "text/plain": [
       "interactive(children=(Dropdown(description='predictions_menu', options={'Latitude#number': 'Latitude#number', …"
      ]
     },
     "metadata": {},
     "output_type": "display_data"
    }
   ],
   "source": [
    "# use csv file to grab images/labels\n",
    "csv_path = \"../../temp_csvs/\" + csv_file\n",
    "df = pd.read_csv(csv_path)\n",
    "\n",
    "#generate image path\n",
    "lower_case_csv = csv_file.lower()\n",
    "img_path = \"../../images/\" + lower_case_csv.split(\".\")[0]\n",
    "\n",
    "# Choose column of label for prediction\n",
    "toPredict = list(df.columns.values)\n",
    "\n",
    "pred_menu = {}\n",
    "for i in range(0, len(toPredict)):\n",
    "    pred_menu[toPredict[i]] = toPredict[i]\n",
    "\n",
    "def f(predictions_menu):\n",
    "    return predictions_menu\n",
    "\n",
    "out2 = interact(f, predictions_menu=pred_menu)"
   ]
  },
  {
   "cell_type": "markdown",
   "metadata": {},
   "source": [
    "## Choose type of histogram to extract from images"
   ]
  },
  {
   "cell_type": "code",
   "execution_count": 136,
   "metadata": {},
   "outputs": [
    {
     "data": {
      "application/vnd.jupyter.widget-view+json": {
       "model_id": "7f8ec1690d104e12899d0ee282406b6a",
       "version_major": 2,
       "version_minor": 0
      },
      "text/plain": [
       "interactive(children=(Dropdown(description='histogram_type', options={'Blue Histogram': 1, 'Red Histogram': 2,…"
      ]
     },
     "metadata": {},
     "output_type": "display_data"
    }
   ],
   "source": [
    "hist_type = { \n",
    "    'HSV Color Histogram': 0,\n",
    "    'Blue Histogram': 1,\n",
    "    'Red Histogram': 2,\n",
    "    'Green Histogram': 3\n",
    "    }\n",
    "\n",
    "def f(histogram_type):\n",
    "    return histogram_type\n",
    "typeH= interact(f, histogram_type=hist_type);"
   ]
  },
  {
   "cell_type": "markdown",
   "metadata": {},
   "source": [
    "## Get histogram from each image in the dataset"
   ]
  },
  {
   "cell_type": "code",
   "execution_count": 137,
   "metadata": {},
   "outputs": [
    {
     "name": "stdout",
     "output_type": "stream",
     "text": [
      "xtrain:  [[8.06836784e-01 3.47780377e-01 3.19127947e-01 ... 0.00000000e+00\n",
      "  0.00000000e+00 0.00000000e+00]\n",
      " [1.53727263e-01 1.13706879e-01 1.77365422e-01 ... 0.00000000e+00\n",
      "  0.00000000e+00 0.00000000e+00]\n",
      " [1.89435408e-02 4.02093828e-02 1.08631305e-01 ... 1.29016826e-06\n",
      "  3.44044861e-06 0.00000000e+00]\n",
      " ...\n",
      " [9.42669332e-01 1.52247086e-01 1.40374854e-01 ... 0.00000000e+00\n",
      "  0.00000000e+00 0.00000000e+00]\n",
      " [1.37989327e-01 1.23897545e-01 1.98783800e-01 ... 0.00000000e+00\n",
      "  0.00000000e+00 0.00000000e+00]\n",
      " [5.58064394e-02 3.92504670e-02 6.74235895e-02 ... 6.85825944e-04\n",
      "  1.22922026e-02 0.00000000e+00]]\n",
      "ytrain:  [ 5  4 21 12 22 18  4 18  8  4 19  5 17 12  5  5 19  4 12  5 12  3  8  1\n",
      "  6 12  0 12  4 12  4 12  5 17 12  5  7  8 19  5 13 21  4  5  5  2 17 12\n",
      " 22  1 22 15 17  2  4 12 17 12 17 18  6  6 13 17  5 17 12  7  5  4  6 13\n",
      "  4 12  4  5  7 17 12 12 21  2 12 12  4 14  6 12 12  5 18 12  3 12 14  1\n",
      "  5 16  4 18  6 14  7 12  4 12 12  4 13 14 12 12 14  3  5 14  4 13 12  3\n",
      " 12  1  6 12 12  5 12 11  7  2 17 14  3 15 12  4 22  4 20  1  5 14 21 12\n",
      "  5 12 12  5  1  5  1  2  4  5 10  6  5 22  4  4  5 14  3  6  5  6 12 18\n",
      "  5  5  5  5 20  4  6  5]\n",
      "                                                                    precision    recall  f1-score   support\n",
      "\n",
      "                                            Alkali feldspar Fabric       0.00      0.00      0.00         4\n",
      "                                                      Chert Fabric       0.00      0.00      0.00        12\n",
      "                                   Fine Calcareous Phyllite Fabric       1.00      0.12      0.22         8\n",
      "                                                  Fusilinid Fabric       0.00      0.00      0.00         8\n",
      "                             Macrofossiliferous Clay Pellet Fabric       0.31      0.25      0.28        44\n",
      "                                  Main south-central Cretan Fabric       0.37      0.50      0.42        68\n",
      "                                      Medium/coarse Igneous Fabric       0.00      0.00      0.00        20\n",
      "                                            Metasedimentary Fabric       0.00      0.00      0.00         8\n",
      "                              Micaceous Quartz and Feldspar Fabric       0.00      0.00      0.00         4\n",
      "                                                   Phyllite Fabric       0.00      0.00      0.00         4\n",
      "                              Phyllite, Siltstone and Chert Fabric       0.00      0.00      0.00         4\n",
      "                         Polycrystalline Quartz and Calcite Fabric       0.00      0.00      0.00         4\n",
      "                                         Quartz and Calcite Fabric       0.26      0.75      0.39        68\n",
      "                          Quartz and Calcite with chert sub-Fabric       0.00      0.00      0.00        20\n",
      "                                     Quartz and Clay Pellet Fabric       0.00      0.00      0.00        20\n",
      "                                     Quartz and Metamorphic Fabric       1.00      0.25      0.40         4\n",
      "                                          Quartz and Schist Fabric       0.00      0.00      0.00         4\n",
      "                             Quartz, Chert and Macrofossils Fabric       0.24      0.38      0.29        16\n",
      "                             Quartzite, Phyllite and Schist Fabric       0.33      0.12      0.18         8\n",
      "Red Firing Quartzite, Phyllite and Schist with microfossils Fabric       0.00      0.00      0.00         4\n",
      "                                                     Schist Fabric       0.00      0.00      0.00         4\n",
      "                                     Serpentine and Micrite Fabric       0.00      0.00      0.00         8\n",
      "                                               Serpentinite Fabric       0.00      0.00      0.00         8\n",
      "\n",
      "                                                       avg / total       0.21      0.30      0.22       352\n",
      "\n"
     ]
    }
   ],
   "source": [
    "# init the image suffix\n",
    "suffix = '.jpg'\n",
    "labels = []\n",
    "\n",
    "labelHeader = out2.widget.result\n",
    "\n",
    "# grab chosen column names\n",
    "nameCol = df['#img']\n",
    "predCol = df[labelHeader]\n",
    "\n",
    "# add all fabric columns to the y set\n",
    "for i in range (0,len(predCol)):\n",
    "    labels.append(predCol[i])\n",
    "# create new hist_list\n",
    "hist_list = []\n",
    "# gather images from path created from file names in csv file\n",
    "typeH = typeH.widget.result\n",
    "for i in range (0,len(nameCol)):\n",
    "    base_filename = nameCol[i]\n",
    "    fileName = os.path.join(img_path, base_filename + suffix)\n",
    "    im = cv2.imread(fileName)\n",
    "    if typeH == 0:\n",
    "        hist = Histograms.extract_color_histogram(im)\n",
    "    elif typeH == 1: \n",
    "        hist = Histograms.extract_blue_histogram(im)\n",
    "    elif typeH == 2: \n",
    "        hist = Histograms.extract_red_histogram(im)\n",
    "    elif typeH == 3: \n",
    "        hist = Histograms.extract_green_histogram(im)\n",
    "    hist_list.append(hist)\n",
    "    \n",
    "# transform labels into numerical system\n",
    "le = LabelEncoder()\n",
    "labels = le.fit_transform(predCol)\n",
    "\n",
    "\n",
    "\n",
    "# separate data into test/train sets for features/labels\n",
    "(xtrain, xtest, ytrain, ytest) = train_test_split(np.array(hist_list),labels, test_size = 0.5)\n",
    "\n",
    "# Train the linear regression classifier\n",
    "model2 = LinearSVC()\n",
    "model2.fit(xtrain, ytrain)\n",
    "\n",
    "# Calculate predictions on the data set\n",
    "predictions = model2.predict(np.array(hist_list))\n",
    "print(classification_report(labels, predictions, target_names = le.classes_))"
   ]
  },
  {
   "cell_type": "code",
   "execution_count": 149,
   "metadata": {},
   "outputs": [
    {
     "data": {
      "text/plain": [
       "['models/zaslavsk_svm_Petrographic Fabric_1.pkl']"
      ]
     },
     "execution_count": 149,
     "metadata": {},
     "output_type": "execute_result"
    }
   ],
   "source": [
    "# save the label\n",
    "filePath = \"labels/\"\n",
    "fileName = labelHeader + '_' + csv_file[:-4] + '_svmModel' + '.txt'\n",
    "file = open(os.path.join(filePath, fileName),\"a+\") \n",
    "file.write(str(typeH))\n",
    "file.write(out2.widget.result)\n",
    "file.close()\n",
    "\n",
    "#Generate model file and save\n",
    "\n",
    "modelPath = \"models/\"\n",
    "modelName =  user + \"_svm_\" + out2.widget.result + \"_\" + str(typeH) + \".pkl\"\n",
    "joblib.dump(model2, os.path.join(modelPath, modelName)) "
   ]
  },
  {
   "cell_type": "code",
   "execution_count": 127,
   "metadata": {},
   "outputs": [
    {
     "data": {
      "text/plain": [
       "0"
      ]
     },
     "execution_count": 127,
     "metadata": {},
     "output_type": "execute_result"
    }
   ],
   "source": [
    "typeH"
   ]
  },
  {
   "cell_type": "code",
   "execution_count": 128,
   "metadata": {},
   "outputs": [
    {
     "data": {
      "text/plain": [
       "'Petrographic Fabric'"
      ]
     },
     "execution_count": 128,
     "metadata": {},
     "output_type": "execute_result"
    }
   ],
   "source": [
    "labelHeader"
   ]
  },
  {
   "cell_type": "code",
   "execution_count": 129,
   "metadata": {},
   "outputs": [
    {
     "data": {
      "text/plain": [
       "'Petrographic Fabric_zaslavsk_Kommos_Ceramic_PetrographysvmModel.txt'"
      ]
     },
     "execution_count": 129,
     "metadata": {},
     "output_type": "execute_result"
    }
   ],
   "source": [
    "labelHeader + '_' + csv_file[:-4] + 'svmModel' + '.txt'"
   ]
  },
  {
   "cell_type": "code",
   "execution_count": null,
   "metadata": {},
   "outputs": [],
   "source": []
  },
  {
   "cell_type": "code",
   "execution_count": null,
   "metadata": {},
   "outputs": [],
   "source": []
  }
 ],
 "metadata": {
  "kernelspec": {
   "display_name": "Python 3",
   "language": "python",
   "name": "python3"
  },
  "language_info": {
   "codemirror_mode": {
    "name": "ipython",
    "version": 3
   },
   "file_extension": ".py",
   "mimetype": "text/x-python",
   "name": "python",
   "nbconvert_exporter": "python",
   "pygments_lexer": "ipython3",
   "version": "3.5.2"
  }
 },
 "nbformat": 4,
 "nbformat_minor": 2
}
